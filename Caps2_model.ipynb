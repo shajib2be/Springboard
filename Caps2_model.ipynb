{
 "cells": [
  {
   "cell_type": "code",
   "execution_count": 3,
   "metadata": {},
   "outputs": [],
   "source": [
    "import pandas as pd\n",
    "import numpy as np\n",
    "import os\n",
    "import pickle\n",
    "import matplotlib.pyplot as plt\n",
    "import seaborn as sns\n",
    "from sklearn import __version__ as sklearn_version\n",
    "from sklearn.model_selection import cross_validate"
   ]
  },
  {
   "cell_type": "code",
   "execution_count": 26,
   "metadata": {},
   "outputs": [],
   "source": [
    "# This isn't exactly production-grade, but a quick check for development\n",
    "# These checks can save some head-scratching in development when moving from\n",
    "# one python environment to another, for example\n",
    "expected_model_version = '1.0'\n",
    "model_path = 'C:/Users/Mohammad/DataScienceCapstone/models/df_pricing.pkl'\n",
    "if os.path.exists(model_path):\n",
    "    with open(model_path, 'rb') as f:\n",
    "        model = pickle.load(f)\n",
    "    if model.version != expected_model_version:\n",
    "        print(\"Expected model version doesn't match version loaded\")\n",
    "    if model.sklearn_version != sklearn_version:\n",
    "        print(\"Warning: model created under different sklearn version\")\n",
    "else:\n",
    "    print(\"Expected model not found\")"
   ]
  },
  {
   "cell_type": "code",
   "execution_count": 27,
   "metadata": {},
   "outputs": [
    {
     "data": {
      "text/html": [
       "<div>\n",
       "<style scoped>\n",
       "    .dataframe tbody tr th:only-of-type {\n",
       "        vertical-align: middle;\n",
       "    }\n",
       "\n",
       "    .dataframe tbody tr th {\n",
       "        vertical-align: top;\n",
       "    }\n",
       "\n",
       "    .dataframe thead th {\n",
       "        text-align: right;\n",
       "    }\n",
       "</style>\n",
       "<table border=\"1\" class=\"dataframe\">\n",
       "  <thead>\n",
       "    <tr style=\"text-align: right;\">\n",
       "      <th></th>\n",
       "      <th>Unnamed: 0</th>\n",
       "      <th>Unnamed: 0_x</th>\n",
       "      <th>id_x</th>\n",
       "      <th>neighbourhood_x</th>\n",
       "      <th>price</th>\n",
       "      <th>minimum_nights_x</th>\n",
       "      <th>number_of_reviews_x</th>\n",
       "      <th>reviews_per_month_x</th>\n",
       "      <th>calculated_host_listings_count_x</th>\n",
       "      <th>availability_365_x</th>\n",
       "      <th>...</th>\n",
       "      <th>minimum_nights_y</th>\n",
       "      <th>number_of_reviews_y</th>\n",
       "      <th>reviews_per_month_y</th>\n",
       "      <th>calculated_host_listings_count_y</th>\n",
       "      <th>availability_365_y</th>\n",
       "      <th>diff_y</th>\n",
       "      <th>room_type_Entire home/apt</th>\n",
       "      <th>room_type_Hotel room</th>\n",
       "      <th>room_type_Private room</th>\n",
       "      <th>room_type_Shared room</th>\n",
       "    </tr>\n",
       "  </thead>\n",
       "  <tbody>\n",
       "    <tr>\n",
       "      <th>0</th>\n",
       "      <td>0</td>\n",
       "      <td>0</td>\n",
       "      <td>108061</td>\n",
       "      <td>28801</td>\n",
       "      <td>82</td>\n",
       "      <td>30</td>\n",
       "      <td>89</td>\n",
       "      <td>0.79</td>\n",
       "      <td>2</td>\n",
       "      <td>173</td>\n",
       "      <td>...</td>\n",
       "      <td>30</td>\n",
       "      <td>89</td>\n",
       "      <td>0.79</td>\n",
       "      <td>2</td>\n",
       "      <td>173</td>\n",
       "      <td>516.0</td>\n",
       "      <td>1</td>\n",
       "      <td>0</td>\n",
       "      <td>0</td>\n",
       "      <td>0</td>\n",
       "    </tr>\n",
       "    <tr>\n",
       "      <th>1</th>\n",
       "      <td>1</td>\n",
       "      <td>1</td>\n",
       "      <td>155305</td>\n",
       "      <td>28806</td>\n",
       "      <td>90</td>\n",
       "      <td>1</td>\n",
       "      <td>279</td>\n",
       "      <td>2.44</td>\n",
       "      <td>6</td>\n",
       "      <td>352</td>\n",
       "      <td>...</td>\n",
       "      <td>1</td>\n",
       "      <td>279</td>\n",
       "      <td>2.44</td>\n",
       "      <td>6</td>\n",
       "      <td>352</td>\n",
       "      <td>144.0</td>\n",
       "      <td>1</td>\n",
       "      <td>0</td>\n",
       "      <td>0</td>\n",
       "      <td>0</td>\n",
       "    </tr>\n",
       "    <tr>\n",
       "      <th>2</th>\n",
       "      <td>2</td>\n",
       "      <td>2</td>\n",
       "      <td>156926</td>\n",
       "      <td>28806</td>\n",
       "      <td>30</td>\n",
       "      <td>1</td>\n",
       "      <td>290</td>\n",
       "      <td>2.78</td>\n",
       "      <td>6</td>\n",
       "      <td>0</td>\n",
       "      <td>...</td>\n",
       "      <td>1</td>\n",
       "      <td>290</td>\n",
       "      <td>2.78</td>\n",
       "      <td>6</td>\n",
       "      <td>0</td>\n",
       "      <td>179.0</td>\n",
       "      <td>0</td>\n",
       "      <td>0</td>\n",
       "      <td>0</td>\n",
       "      <td>1</td>\n",
       "    </tr>\n",
       "    <tr>\n",
       "      <th>3</th>\n",
       "      <td>3</td>\n",
       "      <td>3</td>\n",
       "      <td>160594</td>\n",
       "      <td>28801</td>\n",
       "      <td>125</td>\n",
       "      <td>30</td>\n",
       "      <td>58</td>\n",
       "      <td>0.51</td>\n",
       "      <td>1</td>\n",
       "      <td>0</td>\n",
       "      <td>...</td>\n",
       "      <td>30</td>\n",
       "      <td>58</td>\n",
       "      <td>0.51</td>\n",
       "      <td>1</td>\n",
       "      <td>0</td>\n",
       "      <td>2019.0</td>\n",
       "      <td>0</td>\n",
       "      <td>0</td>\n",
       "      <td>1</td>\n",
       "      <td>0</td>\n",
       "    </tr>\n",
       "    <tr>\n",
       "      <th>4</th>\n",
       "      <td>4</td>\n",
       "      <td>4</td>\n",
       "      <td>209068</td>\n",
       "      <td>28804</td>\n",
       "      <td>134</td>\n",
       "      <td>30</td>\n",
       "      <td>56</td>\n",
       "      <td>0.50</td>\n",
       "      <td>1</td>\n",
       "      <td>345</td>\n",
       "      <td>...</td>\n",
       "      <td>30</td>\n",
       "      <td>56</td>\n",
       "      <td>0.50</td>\n",
       "      <td>1</td>\n",
       "      <td>345</td>\n",
       "      <td>216.0</td>\n",
       "      <td>1</td>\n",
       "      <td>0</td>\n",
       "      <td>0</td>\n",
       "      <td>0</td>\n",
       "    </tr>\n",
       "  </tbody>\n",
       "</table>\n",
       "<p>5 rows × 24 columns</p>\n",
       "</div>"
      ],
      "text/plain": [
       "   Unnamed: 0  Unnamed: 0_x    id_x  neighbourhood_x  price  minimum_nights_x  \\\n",
       "0           0             0  108061            28801     82                30   \n",
       "1           1             1  155305            28806     90                 1   \n",
       "2           2             2  156926            28806     30                 1   \n",
       "3           3             3  160594            28801    125                30   \n",
       "4           4             4  209068            28804    134                30   \n",
       "\n",
       "   number_of_reviews_x  reviews_per_month_x  calculated_host_listings_count_x  \\\n",
       "0                   89                 0.79                                 2   \n",
       "1                  279                 2.44                                 6   \n",
       "2                  290                 2.78                                 6   \n",
       "3                   58                 0.51                                 1   \n",
       "4                   56                 0.50                                 1   \n",
       "\n",
       "   availability_365_x  ...  minimum_nights_y  number_of_reviews_y  \\\n",
       "0                 173  ...                30                   89   \n",
       "1                 352  ...                 1                  279   \n",
       "2                   0  ...                 1                  290   \n",
       "3                   0  ...                30                   58   \n",
       "4                 345  ...                30                   56   \n",
       "\n",
       "   reviews_per_month_y  calculated_host_listings_count_y  availability_365_y  \\\n",
       "0                 0.79                                 2                 173   \n",
       "1                 2.44                                 6                 352   \n",
       "2                 2.78                                 6                   0   \n",
       "3                 0.51                                 1                   0   \n",
       "4                 0.50                                 1                 345   \n",
       "\n",
       "   diff_y  room_type_Entire home/apt  room_type_Hotel room  \\\n",
       "0   516.0                          1                     0   \n",
       "1   144.0                          1                     0   \n",
       "2   179.0                          0                     0   \n",
       "3  2019.0                          0                     0   \n",
       "4   216.0                          1                     0   \n",
       "\n",
       "   room_type_Private room  room_type_Shared room  \n",
       "0                       0                      0  \n",
       "1                       0                      0  \n",
       "2                       0                      1  \n",
       "3                       1                      0  \n",
       "4                       0                      0  \n",
       "\n",
       "[5 rows x 24 columns]"
      ]
     },
     "execution_count": 27,
     "metadata": {},
     "output_type": "execute_result"
    }
   ],
   "source": [
    "ski_data = pd.read_csv('C:/Users/Mohammad/DataScienceCapstone/data1/df1.csv')\n",
    "ski_data.head()"
   ]
  },
  {
   "cell_type": "code",
   "execution_count": 29,
   "metadata": {},
   "outputs": [],
   "source": [
    "big_mountain = ski_data[ski_data.id_x == 160594]"
   ]
  },
  {
   "cell_type": "code",
   "execution_count": 30,
   "metadata": {},
   "outputs": [
    {
     "data": {
      "text/html": [
       "<div>\n",
       "<style scoped>\n",
       "    .dataframe tbody tr th:only-of-type {\n",
       "        vertical-align: middle;\n",
       "    }\n",
       "\n",
       "    .dataframe tbody tr th {\n",
       "        vertical-align: top;\n",
       "    }\n",
       "\n",
       "    .dataframe thead th {\n",
       "        text-align: right;\n",
       "    }\n",
       "</style>\n",
       "<table border=\"1\" class=\"dataframe\">\n",
       "  <thead>\n",
       "    <tr style=\"text-align: right;\">\n",
       "      <th></th>\n",
       "      <th>3</th>\n",
       "    </tr>\n",
       "  </thead>\n",
       "  <tbody>\n",
       "    <tr>\n",
       "      <th>Unnamed: 0</th>\n",
       "      <td>3.00</td>\n",
       "    </tr>\n",
       "    <tr>\n",
       "      <th>Unnamed: 0_x</th>\n",
       "      <td>3.00</td>\n",
       "    </tr>\n",
       "    <tr>\n",
       "      <th>id_x</th>\n",
       "      <td>160594.00</td>\n",
       "    </tr>\n",
       "    <tr>\n",
       "      <th>neighbourhood_x</th>\n",
       "      <td>28801.00</td>\n",
       "    </tr>\n",
       "    <tr>\n",
       "      <th>price</th>\n",
       "      <td>125.00</td>\n",
       "    </tr>\n",
       "    <tr>\n",
       "      <th>minimum_nights_x</th>\n",
       "      <td>30.00</td>\n",
       "    </tr>\n",
       "    <tr>\n",
       "      <th>number_of_reviews_x</th>\n",
       "      <td>58.00</td>\n",
       "    </tr>\n",
       "    <tr>\n",
       "      <th>reviews_per_month_x</th>\n",
       "      <td>0.51</td>\n",
       "    </tr>\n",
       "    <tr>\n",
       "      <th>calculated_host_listings_count_x</th>\n",
       "      <td>1.00</td>\n",
       "    </tr>\n",
       "    <tr>\n",
       "      <th>availability_365_x</th>\n",
       "      <td>0.00</td>\n",
       "    </tr>\n",
       "    <tr>\n",
       "      <th>diff_x</th>\n",
       "      <td>2019.00</td>\n",
       "    </tr>\n",
       "    <tr>\n",
       "      <th>Unnamed: 0_y</th>\n",
       "      <td>3.00</td>\n",
       "    </tr>\n",
       "    <tr>\n",
       "      <th>id_y</th>\n",
       "      <td>160594.00</td>\n",
       "    </tr>\n",
       "    <tr>\n",
       "      <th>neighbourhood_y</th>\n",
       "      <td>28801.00</td>\n",
       "    </tr>\n",
       "    <tr>\n",
       "      <th>minimum_nights_y</th>\n",
       "      <td>30.00</td>\n",
       "    </tr>\n",
       "    <tr>\n",
       "      <th>number_of_reviews_y</th>\n",
       "      <td>58.00</td>\n",
       "    </tr>\n",
       "    <tr>\n",
       "      <th>reviews_per_month_y</th>\n",
       "      <td>0.51</td>\n",
       "    </tr>\n",
       "    <tr>\n",
       "      <th>calculated_host_listings_count_y</th>\n",
       "      <td>1.00</td>\n",
       "    </tr>\n",
       "    <tr>\n",
       "      <th>availability_365_y</th>\n",
       "      <td>0.00</td>\n",
       "    </tr>\n",
       "    <tr>\n",
       "      <th>diff_y</th>\n",
       "      <td>2019.00</td>\n",
       "    </tr>\n",
       "    <tr>\n",
       "      <th>room_type_Entire home/apt</th>\n",
       "      <td>0.00</td>\n",
       "    </tr>\n",
       "    <tr>\n",
       "      <th>room_type_Hotel room</th>\n",
       "      <td>0.00</td>\n",
       "    </tr>\n",
       "    <tr>\n",
       "      <th>room_type_Private room</th>\n",
       "      <td>1.00</td>\n",
       "    </tr>\n",
       "    <tr>\n",
       "      <th>room_type_Shared room</th>\n",
       "      <td>0.00</td>\n",
       "    </tr>\n",
       "  </tbody>\n",
       "</table>\n",
       "</div>"
      ],
      "text/plain": [
       "                                          3\n",
       "Unnamed: 0                             3.00\n",
       "Unnamed: 0_x                           3.00\n",
       "id_x                              160594.00\n",
       "neighbourhood_x                    28801.00\n",
       "price                                125.00\n",
       "minimum_nights_x                      30.00\n",
       "number_of_reviews_x                   58.00\n",
       "reviews_per_month_x                    0.51\n",
       "calculated_host_listings_count_x       1.00\n",
       "availability_365_x                     0.00\n",
       "diff_x                              2019.00\n",
       "Unnamed: 0_y                           3.00\n",
       "id_y                              160594.00\n",
       "neighbourhood_y                    28801.00\n",
       "minimum_nights_y                      30.00\n",
       "number_of_reviews_y                   58.00\n",
       "reviews_per_month_y                    0.51\n",
       "calculated_host_listings_count_y       1.00\n",
       "availability_365_y                     0.00\n",
       "diff_y                              2019.00\n",
       "room_type_Entire home/apt              0.00\n",
       "room_type_Hotel room                   0.00\n",
       "room_type_Private room                 1.00\n",
       "room_type_Shared room                  0.00"
      ]
     },
     "execution_count": 30,
     "metadata": {},
     "output_type": "execute_result"
    }
   ],
   "source": [
    "big_mountain.T"
   ]
  },
  {
   "cell_type": "code",
   "execution_count": 31,
   "metadata": {},
   "outputs": [],
   "source": [
    "\n",
    "X = ski_data.loc[ski_data.id_x != 160594, model.X_columns]\n",
    "y = ski_data.loc[ski_data.id_x != 160594, 'price']"
   ]
  },
  {
   "cell_type": "code",
   "execution_count": 42,
   "metadata": {},
   "outputs": [
    {
     "data": {
      "text/plain": [
       "(2257, 2257)"
      ]
     },
     "execution_count": 42,
     "metadata": {},
     "output_type": "execute_result"
    }
   ],
   "source": [
    "len(X), len(y)"
   ]
  },
  {
   "cell_type": "code",
   "execution_count": 43,
   "metadata": {},
   "outputs": [
    {
     "data": {
      "text/plain": [
       "Pipeline(steps=[('simpleimputer', SimpleImputer()), ('standardscaler', None),\n",
       "                ('randomforestregressor',\n",
       "                 RandomForestRegressor(n_estimators=784, random_state=47))])"
      ]
     },
     "execution_count": 43,
     "metadata": {},
     "output_type": "execute_result"
    }
   ],
   "source": [
    "model.fit(X, y)"
   ]
  },
  {
   "cell_type": "code",
   "execution_count": 44,
   "metadata": {},
   "outputs": [],
   "source": [
    "cv_results = cross_validate(model, X, y, scoring='neg_mean_absolute_error', cv=5, n_jobs=-1)"
   ]
  },
  {
   "cell_type": "code",
   "execution_count": 45,
   "metadata": {},
   "outputs": [
    {
     "data": {
      "text/plain": [
       "array([ -64.04967999,  -62.74500237, -108.49533633, -102.73020838,\n",
       "       -151.15573951])"
      ]
     },
     "execution_count": 45,
     "metadata": {},
     "output_type": "execute_result"
    }
   ],
   "source": [
    "cv_results['test_score']"
   ]
  },
  {
   "cell_type": "code",
   "execution_count": 46,
   "metadata": {},
   "outputs": [
    {
     "data": {
      "text/plain": [
       "(97.83519331702033, 32.721439086057735)"
      ]
     },
     "execution_count": 46,
     "metadata": {},
     "output_type": "execute_result"
    }
   ],
   "source": [
    "mae_mean, mae_std = np.mean(-1 * cv_results['test_score']), np.std(-1 * cv_results['test_score'])\n",
    "mae_mean, mae_std"
   ]
  },
  {
   "cell_type": "code",
   "execution_count": 47,
   "metadata": {},
   "outputs": [],
   "source": [
    "X_bm = ski_data.loc[ski_data.id_x == 160594, model.X_columns]\n",
    "y_bm = ski_data.loc[ski_data.id_x == 160594, 'price']"
   ]
  },
  {
   "cell_type": "code",
   "execution_count": 48,
   "metadata": {},
   "outputs": [],
   "source": [
    "bm_pred = model.predict(X_bm).item()"
   ]
  },
  {
   "cell_type": "code",
   "execution_count": 49,
   "metadata": {},
   "outputs": [],
   "source": [
    "y_bm = y_bm.values.item()"
   ]
  },
  {
   "cell_type": "code",
   "execution_count": 51,
   "metadata": {},
   "outputs": [
    {
     "name": "stdout",
     "output_type": "stream",
     "text": [
      "Big Mountain Resort modelled price is $74.68, actual price is $125.00.\n",
      "Even with the expected mean absolute error of $97.84, this suggests there is room for an change.\n"
     ]
    }
   ],
   "source": [
    "print(f'Big Mountain Resort modelled price is ${bm_pred:.2f}, actual price is ${y_bm:.2f}.')\n",
    "print(f'Even with the expected mean absolute error of ${mae_mean:.2f}, this suggests there is room for an change.')"
   ]
  },
  {
   "cell_type": "code",
   "execution_count": null,
   "metadata": {},
   "outputs": [],
   "source": []
  }
 ],
 "metadata": {
  "kernelspec": {
   "display_name": "Python 3",
   "language": "python",
   "name": "python3"
  },
  "language_info": {
   "codemirror_mode": {
    "name": "ipython",
    "version": 3
   },
   "file_extension": ".py",
   "mimetype": "text/x-python",
   "name": "python",
   "nbconvert_exporter": "python",
   "pygments_lexer": "ipython3",
   "version": "3.8.5"
  }
 },
 "nbformat": 4,
 "nbformat_minor": 4
}
