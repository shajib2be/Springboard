{
 "cells": [
  {
   "cell_type": "code",
   "execution_count": 1,
   "metadata": {},
   "outputs": [
    {
     "name": "stdout",
     "output_type": "stream",
     "text": [
      "Requirement already satisfied: tweepy in c:\\users\\mohammad\\anaconda3\\lib\\site-packages (4.5.0)\n",
      "Requirement already satisfied: requests-oauthlib<2,>=1.0.0 in c:\\users\\mohammad\\anaconda3\\lib\\site-packages (from tweepy) (1.3.0)\n",
      "Requirement already satisfied: requests<3,>=2.27.0 in c:\\users\\mohammad\\anaconda3\\lib\\site-packages (from tweepy) (2.27.1)\n",
      "Requirement already satisfied: charset-normalizer~=2.0.0 in c:\\users\\mohammad\\anaconda3\\lib\\site-packages (from requests<3,>=2.27.0->tweepy) (2.0.10)\n",
      "Requirement already satisfied: idna<4,>=2.5 in c:\\users\\mohammad\\anaconda3\\lib\\site-packages (from requests<3,>=2.27.0->tweepy) (2.10)\n",
      "Requirement already satisfied: urllib3<1.27,>=1.21.1 in c:\\users\\mohammad\\anaconda3\\lib\\site-packages (from requests<3,>=2.27.0->tweepy) (1.25.11)\n",
      "Requirement already satisfied: certifi>=2017.4.17 in c:\\users\\mohammad\\anaconda3\\lib\\site-packages (from requests<3,>=2.27.0->tweepy) (2020.6.20)\n",
      "Requirement already satisfied: oauthlib>=3.0.0 in c:\\users\\mohammad\\anaconda3\\lib\\site-packages (from requests-oauthlib<2,>=1.0.0->tweepy) (3.1.1)\n"
     ]
    },
    {
     "name": "stderr",
     "output_type": "stream",
     "text": [
      "WARNING: Ignoring invalid distribution -orch (c:\\users\\mohammad\\anaconda3\\lib\\site-packages)\n",
      "WARNING: Ignoring invalid distribution -orch (c:\\users\\mohammad\\anaconda3\\lib\\site-packages)\n",
      "WARNING: Ignoring invalid distribution -orch (c:\\users\\mohammad\\anaconda3\\lib\\site-packages)\n",
      "WARNING: Ignoring invalid distribution -orch (c:\\users\\mohammad\\anaconda3\\lib\\site-packages)\n",
      "WARNING: Ignoring invalid distribution -orch (c:\\users\\mohammad\\anaconda3\\lib\\site-packages)\n",
      "WARNING: Ignoring invalid distribution -orch (c:\\users\\mohammad\\anaconda3\\lib\\site-packages)\n",
      "WARNING: You are using pip version 21.3.1; however, version 22.1.2 is available.\n",
      "You should consider upgrading via the 'c:\\users\\mohammad\\anaconda3\\python.exe -m pip install --upgrade pip' command.\n"
     ]
    }
   ],
   "source": [
    "#!pip install tweepy"
   ]
  },
  {
   "cell_type": "code",
   "execution_count": 18,
   "metadata": {},
   "outputs": [
    {
     "name": "stdout",
     "output_type": "stream",
     "text": [
      "Collecting tweepy==1.7.1\n",
      "  Downloading tweepy-1.7.1.tar.gz (19 kB)\n",
      "  Preparing metadata (setup.py): started\n",
      "  Preparing metadata (setup.py): finished with status 'done'\n",
      "Building wheels for collected packages: tweepy\n",
      "  Building wheel for tweepy (setup.py): started\n",
      "  Building wheel for tweepy (setup.py): finished with status 'done'\n",
      "  Created wheel for tweepy: filename=tweepy-1.7.1-py3-none-any.whl size=23987 sha256=cf39e3d38f54cddf9a4e794d29d935a2c8b8f8e0b7ae289a3e85b79fd2943a88\n",
      "  Stored in directory: c:\\users\\mohammad\\appdata\\local\\pip\\cache\\wheels\\73\\99\\7f\\4faafd5670a09671012d7952aeee0905b1032c94b08ec8a9d7\n",
      "Successfully built tweepy\n",
      "Installing collected packages: tweepy\n",
      "  Attempting uninstall: tweepy\n",
      "    Found existing installation: tweepy 4.5.0\n",
      "    Uninstalling tweepy-4.5.0:\n",
      "      Successfully uninstalled tweepy-4.5.0\n",
      "Successfully installed tweepy-1.7.1\n"
     ]
    },
    {
     "name": "stderr",
     "output_type": "stream",
     "text": [
      "WARNING: Ignoring invalid distribution -orch (c:\\users\\mohammad\\anaconda3\\lib\\site-packages)\n",
      "WARNING: Ignoring invalid distribution -orch (c:\\users\\mohammad\\anaconda3\\lib\\site-packages)\n",
      "WARNING: Ignoring invalid distribution -orch (c:\\users\\mohammad\\anaconda3\\lib\\site-packages)\n",
      "    WARNING: Ignoring invalid distribution -orch (c:\\users\\mohammad\\anaconda3\\lib\\site-packages)\n",
      "WARNING: Ignoring invalid distribution -orch (c:\\users\\mohammad\\anaconda3\\lib\\site-packages)\n",
      "WARNING: Ignoring invalid distribution -orch (c:\\users\\mohammad\\anaconda3\\lib\\site-packages)\n",
      "WARNING: Ignoring invalid distribution -orch (c:\\users\\mohammad\\anaconda3\\lib\\site-packages)\n",
      "WARNING: Ignoring invalid distribution -orch (c:\\users\\mohammad\\anaconda3\\lib\\site-packages)\n",
      "WARNING: You are using pip version 21.3.1; however, version 22.1.2 is available.\n",
      "You should consider upgrading via the 'c:\\users\\mohammad\\anaconda3\\python.exe -m pip install --upgrade pip' command.\n"
     ]
    }
   ],
   "source": [
    "#!pip install tweepy==1.7.1"
   ]
  },
  {
   "cell_type": "code",
   "execution_count": 22,
   "metadata": {},
   "outputs": [
    {
     "name": "stdout",
     "output_type": "stream",
     "text": [
      "Requirement already satisfied: pip in c:\\users\\mohammad\\anaconda3\\lib\\site-packages (21.3.1)\n",
      "Collecting pip\n",
      "  Downloading pip-22.1.2-py3-none-any.whl (2.1 MB)\n",
      "Installing collected packages: pip\n",
      "  Attempting uninstall: pip\n",
      "    Found existing installation: pip 21.3.1\n",
      "    Uninstalling pip-21.3.1:\n",
      "      Successfully uninstalled pip-21.3.1\n"
     ]
    },
    {
     "name": "stderr",
     "output_type": "stream",
     "text": [
      "WARNING: Ignoring invalid distribution -orch (c:\\users\\mohammad\\anaconda3\\lib\\site-packages)\n",
      "WARNING: Ignoring invalid distribution -orch (c:\\users\\mohammad\\anaconda3\\lib\\site-packages)\n",
      "WARNING: Ignoring invalid distribution -orch (c:\\users\\mohammad\\anaconda3\\lib\\site-packages)\n",
      "    WARNING: Ignoring invalid distribution -orch (c:\\users\\mohammad\\anaconda3\\lib\\site-packages)\n",
      "ERROR: Could not install packages due to an OSError: [WinError 5] Access is denied: 'C:\\\\Users\\\\Mohammad\\\\AppData\\\\Local\\\\Temp\\\\pip-uninstall-63gfx4_1\\\\pip.exe'\n",
      "Consider using the `--user` option or check the permissions.\n",
      "\n",
      "WARNING: Ignoring invalid distribution -orch (c:\\users\\mohammad\\anaconda3\\lib\\site-packages)\n",
      "WARNING: Ignoring invalid distribution -orch (c:\\users\\mohammad\\anaconda3\\lib\\site-packages)\n",
      "WARNING: Ignoring invalid distribution -orch (c:\\users\\mohammad\\anaconda3\\lib\\site-packages)\n"
     ]
    }
   ],
   "source": [
    "#!pip install --upgrade pip"
   ]
  },
  {
   "cell_type": "code",
   "execution_count": 23,
   "metadata": {},
   "outputs": [],
   "source": [
    "import tweepy,json"
   ]
  },
  {
   "cell_type": "code",
   "execution_count": 37,
   "metadata": {},
   "outputs": [],
   "source": [
    "# Twitter API consumer keys\n",
    "access_token = \"1425310176656203779-Ll5Cvr3MOvk1YGyFk2Sp7HPCsXsheQ\"\n",
    "access_token_secret = \"mQpdzmdnErsFHQ8HHCVSG8wT4AKKkput43ypXMZhvoF1z\"\n",
    "consumer_key = \"h017AScun7GFssit5IcyXxZc7\"\n",
    "consumer_secret = \"ApKx4Hg3pMWwMSJJAWohO2QROvhu5AUD7ntByfU7ugFmkh4Pa7\"\n",
    "# Twitter API authorization\n",
    "auth = tweepy.OAuthHandler(consumer_key, consumer_secret)\n",
    "auth.set_access_token(access_token, access_token_secret)\n"
   ]
  },
  {
   "cell_type": "code",
   "execution_count": 116,
   "metadata": {},
   "outputs": [
    {
     "name": "stderr",
     "output_type": "stream",
     "text": [
      "[nltk_data] Downloading package stopwords to\n",
      "[nltk_data]     C:\\Users\\Mohammad\\AppData\\Roaming\\nltk_data...\n",
      "[nltk_data]   Package stopwords is already up-to-date!\n"
     ]
    }
   ],
   "source": [
    "import pandas as pd\n",
    "import re\n",
    "import string\n",
    "import nltk\n",
    "pd.set_option('display.max_colwidth', 100)\n",
    "nltk.download('stopwords')\n",
    "stopwords = nltk.corpus.stopwords.words('english')\n",
    "ps = nltk.PorterStemmer()\n",
    "import pandas as pd"
   ]
  },
  {
   "cell_type": "code",
   "execution_count": null,
   "metadata": {},
   "outputs": [],
   "source": []
  },
  {
   "cell_type": "code",
   "execution_count": 31,
   "metadata": {},
   "outputs": [
    {
     "name": "stdout",
     "output_type": "stream",
     "text": [
      "Collecting python-dotenv\n",
      "  Downloading python_dotenv-0.20.0-py3-none-any.whl (17 kB)\n",
      "Installing collected packages: python-dotenv\n",
      "Successfully installed python-dotenv-0.20.0\n"
     ]
    },
    {
     "name": "stderr",
     "output_type": "stream",
     "text": [
      "WARNING: Ignoring invalid distribution -orch (c:\\users\\mohammad\\anaconda3\\lib\\site-packages)\n",
      "WARNING: Ignoring invalid distribution -orch (c:\\users\\mohammad\\anaconda3\\lib\\site-packages)\n",
      "WARNING: Ignoring invalid distribution -orch (c:\\users\\mohammad\\anaconda3\\lib\\site-packages)\n",
      "WARNING: Ignoring invalid distribution -orch (c:\\users\\mohammad\\anaconda3\\lib\\site-packages)\n",
      "WARNING: Ignoring invalid distribution -orch (c:\\users\\mohammad\\anaconda3\\lib\\site-packages)\n",
      "WARNING: Ignoring invalid distribution -orch (c:\\users\\mohammad\\anaconda3\\lib\\site-packages)\n",
      "WARNING: Ignoring invalid distribution -orch (c:\\users\\mohammad\\anaconda3\\lib\\site-packages)\n"
     ]
    }
   ],
   "source": [
    "#!pip install python-dotenv"
   ]
  },
  {
   "cell_type": "code",
   "execution_count": 95,
   "metadata": {},
   "outputs": [
    {
     "name": "stdout",
     "output_type": "stream",
     "text": [
      "@ElieNYC Finally someone spoke the truth. Biden and Garland are protecting Trump. There is NO OTHER EXPLANATION.\n",
      "=====\n",
      "Biden Will Let States and Tribes Block Pipelines, Reversing Another Trump Energy Policy. Democrats and Rynos are so evil. Democrat supporters!!!!!  WAKE THE **** UP. Democrats and Rynos are deceiving you.\n",
      "Everything they warned about Trump is actually coming true in the Biden regime.\n",
      "=====\n",
      "Good Morning America 🙏 this corrupt no good Bastard had the nerve to say if you Voted for Trump you ain't Black! Racist Corrupt Criminal FRAUD Biden\n",
      "Has done more to hurt Blacks in\n",
      "50 years in politics.\n",
      "Always Forever Patriots\n",
      "Back The Blue 💙\n",
      "Never Give Up 🇺🇲\n",
      "TRUMP WON 2020 💯 https://t.co/MowULH78Fo\n",
      "=====\n",
      "It takes more than 70 people to run Joe Biden's social media accounts. What a waste of taxpayer funds.\n",
      "\n",
      "President Trump managed his own Twitter and it was great!\n",
      "=====\n",
      "Tucker: Biden has just pushed the EU to stop buying Russian oil. It’s payback for getting Trump elected. https://t.co/kKTN1zkBWG\n",
      "=====\n",
      "@s500rick @mrfancyMD @HillaryClinton @hayfestival Rich, what mess did Trump create? We had the best economy in over 50 years under Trump before the global pandemic hit. The current mess is due to Biden. Open your eyes.\n",
      "@LambeauLeapin95 No, but Biden&amp;Trump’s policies/the fed impact the petrodollar which is why everyone is feeling the gas prices.\n",
      "Donald Trump Jr. Claims His Anti-Joe Biden Gear Is Made In America So Jimmy Kimmel Bought Some And Learned The Awful Truth - Digg https://t.co/Xu4QviZEcc\n",
      "=====\n",
      "@AnnBrittSmith2 @NickAdamsinUSA NOTHING socialist about Biden. Sorry to tell you, but everything left of the Nazi Trump administration is NOT socialism. Biden is a centrist.\n",
      "@MattClem6 @FoxNews @TuckerCarlson When is JFK, Jr. gonna come back from the dead, lead a revolution, oust President Joe Biden in a legal way, and place Trump in the presidency?- you know, the way the founding fathers intended?\n",
      "Did I just hear Peter Navarro brazenly say the Republicans would use the DOJ — if Trump was re-elected in ‘24 — to arrest Joe Biden? Yes, I believe I heard it correctly. I hope Merrick Garland heard it too.\n",
      "=====\n",
      "Biden is now arresting former Trump officials for the crime of being former Trump officials.\n",
      "=====\n",
      "@jimebacker @nypost I didn’t vote for trump so i that doesn’t bother me. You’re so blind to the fact that our economy is crumbling under Biden but you’re happy because trump lost 🤣\n",
      "@GovRonDeSantis OK Trump Jr., Biden cut the deficit by 1/3 of what it was in the quarter BEFORE the pandemic in his first year and is cutting it over $1T this year. Trump added almost 8T to the national debt in only 4 years. Biden set the example to follow.\n",
      "=====\n"
     ]
    }
   ],
   "source": [
    "import os\n",
    "import tweepy\n",
    "from dotenv import load_dotenv\n",
    "#ACCESS_TOKEN = \"1425310176656203779-Ll5Cvr3MOvk1YGyFk2Sp7HPCsXsheQ\"\n",
    "#ACCESS_TOKEN_SECRET = \"mQpdzmdnErsFHQ8HHCVSG8wT4AKKkput43ypXMZhvoF1z\"\n",
    "#API_KEY = \"h017AScun7GFssit5IcyXxZc7\"\n",
    "#API_KEY_SECRET = \"ApKx4Hg3pMWwMSJJAWohO2QROvhu5AUD7ntByfU7ugFmkh4Pa7\"\n",
    "\n",
    "#consumer_key = os.environ[API_KEY]\n",
    "#consumer_secret = os.environ[API_KEY_SECRET]\n",
    "#access_token = os.environ[\"ACCESS_TOKEN\"]\n",
    "#access_token_secret = os.environ[\"ACCESS_TOKEN_SECRET\"]\n",
    "\n",
    "auth = tweepy.OAuth1UserHandler(\n",
    "  consumer_key, \n",
    "  consumer_secret, \n",
    "  access_token, \n",
    "  access_token_secret\n",
    ")\n",
    "\n",
    "api = tweepy.API(auth)\n",
    "\n",
    "tweets = api.search_tweets([\"trump\",\"biden\"], tweet_mode=\"extended\")\n",
    "\n",
    "for tweet in tweets:\n",
    "    try:\n",
    "        print(tweet.retweeted_status.full_text)\n",
    "        print(\"=====\")\n",
    "    except AttributeError:\n",
    "        print(tweet.full_text)"
   ]
  },
  {
   "cell_type": "code",
   "execution_count": 108,
   "metadata": {},
   "outputs": [
    {
     "name": "stdout",
     "output_type": "stream",
     "text": [
      "Biden Will Let States and Tribes Block Pipelines, Reversing Another Trump Energy Policy. Democrats and Rynos are so evil. Democrat supporters!!!!!  WAKE THE **** UP. Democrats and Rynos are deceiving you.\n",
      "@s500rick @mrfancyMD @HillaryClinton @hayfestival Rich, what mess did Trump create? We had the best economy in over 50 years under Trump before the global pandemic hit. The current mess is due to Biden. Open your eyes.\n",
      "@LambeauLeapin95 No, but Biden&amp;Trump’s policies/the fed impact the petrodollar which is why everyone is feeling the gas prices.\n",
      "@AnnBrittSmith2 @NickAdamsinUSA NOTHING socialist about Biden. Sorry to tell you, but everything left of the Nazi Trump administration is NOT socialism. Biden is a centrist.\n",
      "@MattClem6 @FoxNews @TuckerCarlson When is JFK, Jr. gonna come back from the dead, lead a revolution, oust President Joe Biden in a legal way, and place Trump in the presidency?- you know, the way the founding fathers intended?\n",
      "@jimebacker @nypost I didn’t vote for trump so i that doesn’t bother me. You’re so blind to the fact that our economy is crumbling under Biden but you’re happy because trump lost 🤣\n"
     ]
    }
   ],
   "source": [
    "extracted_tweets1 = []\n",
    "for tweet in tweets:\n",
    "    try:\n",
    "         extracted_tweets1.append(tweet.retweeted_status.full_text)\n",
    "        #print(\"=====\")\n",
    "    except AttributeError:\n",
    "        print(tweet.full_text)\n"
   ]
  },
  {
   "cell_type": "code",
   "execution_count": 109,
   "metadata": {},
   "outputs": [
    {
     "data": {
      "text/plain": [
       "['@ElieNYC Finally someone spoke the truth. Biden and Garland are protecting Trump. There is NO OTHER EXPLANATION.',\n",
       " 'Everything they warned about Trump is actually coming true in the Biden regime.',\n",
       " \"Good Morning America 🙏 this corrupt no good Bastard had the nerve to say if you Voted for Trump you ain't Black! Racist Corrupt Criminal FRAUD Biden\\nHas done more to hurt Blacks in\\n50 years in politics.\\nAlways Forever Patriots\\nBack The Blue 💙\\nNever Give Up 🇺🇲\\nTRUMP WON 2020 💯 https://t.co/MowULH78Fo\",\n",
       " \"It takes more than 70 people to run Joe Biden's social media accounts. What a waste of taxpayer funds.\\n\\nPresident Trump managed his own Twitter and it was great!\",\n",
       " 'Tucker: Biden has just pushed the EU to stop buying Russian oil. It’s payback for getting Trump elected. https://t.co/kKTN1zkBWG',\n",
       " 'Donald Trump Jr. Claims His Anti-Joe Biden Gear Is Made In America So Jimmy Kimmel Bought Some And Learned The Awful Truth - Digg https://t.co/Xu4QviZEcc',\n",
       " 'Did I just hear Peter Navarro brazenly say the Republicans would use the DOJ — if Trump was re-elected in ‘24 — to arrest Joe Biden? Yes, I believe I heard it correctly. I hope Merrick Garland heard it too.',\n",
       " 'Biden is now arresting former Trump officials for the crime of being former Trump officials.',\n",
       " '@GovRonDeSantis OK Trump Jr., Biden cut the deficit by 1/3 of what it was in the quarter BEFORE the pandemic in his first year and is cutting it over $1T this year. Trump added almost 8T to the national debt in only 4 years. Biden set the example to follow.']"
      ]
     },
     "execution_count": 109,
     "metadata": {},
     "output_type": "execute_result"
    }
   ],
   "source": [
    "extracted_tweets1"
   ]
  },
  {
   "cell_type": "code",
   "execution_count": 113,
   "metadata": {},
   "outputs": [],
   "source": [
    "\n",
    "df = pd.DataFrame(extracted_tweets1)\n",
    "df['text']=df[0]"
   ]
  },
  {
   "cell_type": "code",
   "execution_count": 114,
   "metadata": {},
   "outputs": [
    {
     "data": {
      "text/html": [
       "<div>\n",
       "<style scoped>\n",
       "    .dataframe tbody tr th:only-of-type {\n",
       "        vertical-align: middle;\n",
       "    }\n",
       "\n",
       "    .dataframe tbody tr th {\n",
       "        vertical-align: top;\n",
       "    }\n",
       "\n",
       "    .dataframe thead th {\n",
       "        text-align: right;\n",
       "    }\n",
       "</style>\n",
       "<table border=\"1\" class=\"dataframe\">\n",
       "  <thead>\n",
       "    <tr style=\"text-align: right;\">\n",
       "      <th></th>\n",
       "      <th>0</th>\n",
       "      <th>text</th>\n",
       "    </tr>\n",
       "  </thead>\n",
       "  <tbody>\n",
       "    <tr>\n",
       "      <th>0</th>\n",
       "      <td>@ElieNYC Finally someone spoke the truth. Bide...</td>\n",
       "      <td>@ElieNYC Finally someone spoke the truth. Bide...</td>\n",
       "    </tr>\n",
       "    <tr>\n",
       "      <th>1</th>\n",
       "      <td>Everything they warned about Trump is actually...</td>\n",
       "      <td>Everything they warned about Trump is actually...</td>\n",
       "    </tr>\n",
       "    <tr>\n",
       "      <th>2</th>\n",
       "      <td>Good Morning America 🙏 this corrupt no good Ba...</td>\n",
       "      <td>Good Morning America 🙏 this corrupt no good Ba...</td>\n",
       "    </tr>\n",
       "    <tr>\n",
       "      <th>3</th>\n",
       "      <td>It takes more than 70 people to run Joe Biden'...</td>\n",
       "      <td>It takes more than 70 people to run Joe Biden'...</td>\n",
       "    </tr>\n",
       "    <tr>\n",
       "      <th>4</th>\n",
       "      <td>Tucker: Biden has just pushed the EU to stop b...</td>\n",
       "      <td>Tucker: Biden has just pushed the EU to stop b...</td>\n",
       "    </tr>\n",
       "    <tr>\n",
       "      <th>5</th>\n",
       "      <td>Donald Trump Jr. Claims His Anti-Joe Biden Gea...</td>\n",
       "      <td>Donald Trump Jr. Claims His Anti-Joe Biden Gea...</td>\n",
       "    </tr>\n",
       "    <tr>\n",
       "      <th>6</th>\n",
       "      <td>Did I just hear Peter Navarro brazenly say the...</td>\n",
       "      <td>Did I just hear Peter Navarro brazenly say the...</td>\n",
       "    </tr>\n",
       "    <tr>\n",
       "      <th>7</th>\n",
       "      <td>Biden is now arresting former Trump officials ...</td>\n",
       "      <td>Biden is now arresting former Trump officials ...</td>\n",
       "    </tr>\n",
       "    <tr>\n",
       "      <th>8</th>\n",
       "      <td>@GovRonDeSantis OK Trump Jr., Biden cut the de...</td>\n",
       "      <td>@GovRonDeSantis OK Trump Jr., Biden cut the de...</td>\n",
       "    </tr>\n",
       "  </tbody>\n",
       "</table>\n",
       "</div>"
      ],
      "text/plain": [
       "                                                   0  \\\n",
       "0  @ElieNYC Finally someone spoke the truth. Bide...   \n",
       "1  Everything they warned about Trump is actually...   \n",
       "2  Good Morning America 🙏 this corrupt no good Ba...   \n",
       "3  It takes more than 70 people to run Joe Biden'...   \n",
       "4  Tucker: Biden has just pushed the EU to stop b...   \n",
       "5  Donald Trump Jr. Claims His Anti-Joe Biden Gea...   \n",
       "6  Did I just hear Peter Navarro brazenly say the...   \n",
       "7  Biden is now arresting former Trump officials ...   \n",
       "8  @GovRonDeSantis OK Trump Jr., Biden cut the de...   \n",
       "\n",
       "                                                text  \n",
       "0  @ElieNYC Finally someone spoke the truth. Bide...  \n",
       "1  Everything they warned about Trump is actually...  \n",
       "2  Good Morning America 🙏 this corrupt no good Ba...  \n",
       "3  It takes more than 70 people to run Joe Biden'...  \n",
       "4  Tucker: Biden has just pushed the EU to stop b...  \n",
       "5  Donald Trump Jr. Claims His Anti-Joe Biden Gea...  \n",
       "6  Did I just hear Peter Navarro brazenly say the...  \n",
       "7  Biden is now arresting former Trump officials ...  \n",
       "8  @GovRonDeSantis OK Trump Jr., Biden cut the de...  "
      ]
     },
     "execution_count": 114,
     "metadata": {},
     "output_type": "execute_result"
    }
   ],
   "source": [
    "df"
   ]
  },
  {
   "cell_type": "code",
   "execution_count": 117,
   "metadata": {},
   "outputs": [
    {
     "data": {
      "text/html": [
       "<div>\n",
       "<style scoped>\n",
       "    .dataframe tbody tr th:only-of-type {\n",
       "        vertical-align: middle;\n",
       "    }\n",
       "\n",
       "    .dataframe tbody tr th {\n",
       "        vertical-align: top;\n",
       "    }\n",
       "\n",
       "    .dataframe thead th {\n",
       "        text-align: right;\n",
       "    }\n",
       "</style>\n",
       "<table border=\"1\" class=\"dataframe\">\n",
       "  <thead>\n",
       "    <tr style=\"text-align: right;\">\n",
       "      <th></th>\n",
       "      <th>0</th>\n",
       "      <th>text</th>\n",
       "      <th>cleaned_text</th>\n",
       "    </tr>\n",
       "  </thead>\n",
       "  <tbody>\n",
       "    <tr>\n",
       "      <th>0</th>\n",
       "      <td>@ElieNYC Finally someone spoke the truth. Biden and Garland are protecting Trump. There is NO OT...</td>\n",
       "      <td>@ElieNYC Finally someone spoke the truth. Biden and Garland are protecting Trump. There is NO OT...</td>\n",
       "      <td>elienyc final someon spoke truth biden garland protect trump explan</td>\n",
       "    </tr>\n",
       "    <tr>\n",
       "      <th>1</th>\n",
       "      <td>Everything they warned about Trump is actually coming true in the Biden regime.</td>\n",
       "      <td>Everything they warned about Trump is actually coming true in the Biden regime.</td>\n",
       "      <td>everyth warn trump actual come true biden regim</td>\n",
       "    </tr>\n",
       "    <tr>\n",
       "      <th>2</th>\n",
       "      <td>Good Morning America 🙏 this corrupt no good Bastard had the nerve to say if you Voted for Trump ...</td>\n",
       "      <td>Good Morning America 🙏 this corrupt no good Bastard had the nerve to say if you Voted for Trump ...</td>\n",
       "      <td>good morn america corrupt good bastard nerv say vote trump aint black racist corrupt crimin frau...</td>\n",
       "    </tr>\n",
       "    <tr>\n",
       "      <th>3</th>\n",
       "      <td>It takes more than 70 people to run Joe Biden's social media accounts. What a waste of taxpayer ...</td>\n",
       "      <td>It takes more than 70 people to run Joe Biden's social media accounts. What a waste of taxpayer ...</td>\n",
       "      <td>take 70 peopl run joe biden social media account wast taxpay fund presid trump manag twitter great</td>\n",
       "    </tr>\n",
       "    <tr>\n",
       "      <th>4</th>\n",
       "      <td>Tucker: Biden has just pushed the EU to stop buying Russian oil. It’s payback for getting Trump ...</td>\n",
       "      <td>Tucker: Biden has just pushed the EU to stop buying Russian oil. It’s payback for getting Trump ...</td>\n",
       "      <td>tucker biden push eu stop buy russian oil payback get trump elect httpstcokktn1zkbwg</td>\n",
       "    </tr>\n",
       "    <tr>\n",
       "      <th>5</th>\n",
       "      <td>Donald Trump Jr. Claims His Anti-Joe Biden Gear Is Made In America So Jimmy Kimmel Bought Some A...</td>\n",
       "      <td>Donald Trump Jr. Claims His Anti-Joe Biden Gear Is Made In America So Jimmy Kimmel Bought Some A...</td>\n",
       "      <td>donald trump jr claim antijo biden gear made america jimmi kimmel bought learn aw truth digg htt...</td>\n",
       "    </tr>\n",
       "    <tr>\n",
       "      <th>6</th>\n",
       "      <td>Did I just hear Peter Navarro brazenly say the Republicans would use the DOJ — if Trump was re-e...</td>\n",
       "      <td>Did I just hear Peter Navarro brazenly say the Republicans would use the DOJ — if Trump was re-e...</td>\n",
       "      <td>hear peter navarro brazenli say republican would use doj trump reelect 24 arrest joe biden ye be...</td>\n",
       "    </tr>\n",
       "    <tr>\n",
       "      <th>7</th>\n",
       "      <td>Biden is now arresting former Trump officials for the crime of being former Trump officials.</td>\n",
       "      <td>Biden is now arresting former Trump officials for the crime of being former Trump officials.</td>\n",
       "      <td>biden arrest former trump offici crime former trump offici</td>\n",
       "    </tr>\n",
       "    <tr>\n",
       "      <th>8</th>\n",
       "      <td>@GovRonDeSantis OK Trump Jr., Biden cut the deficit by 1/3 of what it was in the quarter BEFORE ...</td>\n",
       "      <td>@GovRonDeSantis OK Trump Jr., Biden cut the deficit by 1/3 of what it was in the quarter BEFORE ...</td>\n",
       "      <td>govrondesanti ok trump jr biden cut deficit 13 quarter pandem first year cut 1t year trump ad al...</td>\n",
       "    </tr>\n",
       "  </tbody>\n",
       "</table>\n",
       "</div>"
      ],
      "text/plain": [
       "                                                                                                     0  \\\n",
       "0  @ElieNYC Finally someone spoke the truth. Biden and Garland are protecting Trump. There is NO OT...   \n",
       "1                      Everything they warned about Trump is actually coming true in the Biden regime.   \n",
       "2  Good Morning America 🙏 this corrupt no good Bastard had the nerve to say if you Voted for Trump ...   \n",
       "3  It takes more than 70 people to run Joe Biden's social media accounts. What a waste of taxpayer ...   \n",
       "4  Tucker: Biden has just pushed the EU to stop buying Russian oil. It’s payback for getting Trump ...   \n",
       "5  Donald Trump Jr. Claims His Anti-Joe Biden Gear Is Made In America So Jimmy Kimmel Bought Some A...   \n",
       "6  Did I just hear Peter Navarro brazenly say the Republicans would use the DOJ — if Trump was re-e...   \n",
       "7         Biden is now arresting former Trump officials for the crime of being former Trump officials.   \n",
       "8  @GovRonDeSantis OK Trump Jr., Biden cut the deficit by 1/3 of what it was in the quarter BEFORE ...   \n",
       "\n",
       "                                                                                                  text  \\\n",
       "0  @ElieNYC Finally someone spoke the truth. Biden and Garland are protecting Trump. There is NO OT...   \n",
       "1                      Everything they warned about Trump is actually coming true in the Biden regime.   \n",
       "2  Good Morning America 🙏 this corrupt no good Bastard had the nerve to say if you Voted for Trump ...   \n",
       "3  It takes more than 70 people to run Joe Biden's social media accounts. What a waste of taxpayer ...   \n",
       "4  Tucker: Biden has just pushed the EU to stop buying Russian oil. It’s payback for getting Trump ...   \n",
       "5  Donald Trump Jr. Claims His Anti-Joe Biden Gear Is Made In America So Jimmy Kimmel Bought Some A...   \n",
       "6  Did I just hear Peter Navarro brazenly say the Republicans would use the DOJ — if Trump was re-e...   \n",
       "7         Biden is now arresting former Trump officials for the crime of being former Trump officials.   \n",
       "8  @GovRonDeSantis OK Trump Jr., Biden cut the deficit by 1/3 of what it was in the quarter BEFORE ...   \n",
       "\n",
       "                                                                                          cleaned_text  \n",
       "0                                  elienyc final someon spoke truth biden garland protect trump explan  \n",
       "1                                                      everyth warn trump actual come true biden regim  \n",
       "2  good morn america corrupt good bastard nerv say vote trump aint black racist corrupt crimin frau...  \n",
       "3   take 70 peopl run joe biden social media account wast taxpay fund presid trump manag twitter great  \n",
       "4                 tucker biden push eu stop buy russian oil payback get trump elect httpstcokktn1zkbwg  \n",
       "5  donald trump jr claim antijo biden gear made america jimmi kimmel bought learn aw truth digg htt...  \n",
       "6  hear peter navarro brazenli say republican would use doj trump reelect 24 arrest joe biden ye be...  \n",
       "7                                           biden arrest former trump offici crime former trump offici  \n",
       "8  govrondesanti ok trump jr biden cut deficit 13 quarter pandem first year cut 1t year trump ad al...  "
      ]
     },
     "execution_count": 117,
     "metadata": {},
     "output_type": "execute_result"
    }
   ],
   "source": [
    "def clean_text(text):\n",
    "    text = \"\".join([word.lower() for word in text if word not in string.punctuation])\n",
    "    tokens = re.split('\\W+', text)\n",
    "    text = \" \".join([ps.stem(word) for word in tokens if word not in stopwords])\n",
    "    return text\n",
    "\n",
    "df['cleaned_text'] = df['text'].apply(lambda x: clean_text(x))\n",
    "df.head(20)"
   ]
  },
  {
   "cell_type": "code",
   "execution_count": 120,
   "metadata": {},
   "outputs": [
    {
     "name": "stderr",
     "output_type": "stream",
     "text": [
      "[nltk_data] Downloading package vader_lexicon to\n",
      "[nltk_data]     C:\\Users\\Mohammad\\AppData\\Roaming\\nltk_data...\n",
      "[nltk_data]   Package vader_lexicon is already up-to-date!\n"
     ]
    },
    {
     "data": {
      "text/html": [
       "<div>\n",
       "<style scoped>\n",
       "    .dataframe tbody tr th:only-of-type {\n",
       "        vertical-align: middle;\n",
       "    }\n",
       "\n",
       "    .dataframe tbody tr th {\n",
       "        vertical-align: top;\n",
       "    }\n",
       "\n",
       "    .dataframe thead th {\n",
       "        text-align: right;\n",
       "    }\n",
       "</style>\n",
       "<table border=\"1\" class=\"dataframe\">\n",
       "  <thead>\n",
       "    <tr style=\"text-align: right;\">\n",
       "      <th></th>\n",
       "      <th>0</th>\n",
       "      <th>text</th>\n",
       "      <th>cleaned_text</th>\n",
       "      <th>sentiment_score1</th>\n",
       "    </tr>\n",
       "  </thead>\n",
       "  <tbody>\n",
       "    <tr>\n",
       "      <th>0</th>\n",
       "      <td>@ElieNYC Finally someone spoke the truth. Biden and Garland are protecting Trump. There is NO OT...</td>\n",
       "      <td>@ElieNYC Finally someone spoke the truth. Biden and Garland are protecting Trump. There is NO OT...</td>\n",
       "      <td>elienyc final someon spoke truth biden garland protect trump explan</td>\n",
       "      <td>0.60</td>\n",
       "    </tr>\n",
       "    <tr>\n",
       "      <th>1</th>\n",
       "      <td>Everything they warned about Trump is actually coming true in the Biden regime.</td>\n",
       "      <td>Everything they warned about Trump is actually coming true in the Biden regime.</td>\n",
       "      <td>everyth warn trump actual come true biden regim</td>\n",
       "      <td>0.34</td>\n",
       "    </tr>\n",
       "    <tr>\n",
       "      <th>2</th>\n",
       "      <td>Good Morning America 🙏 this corrupt no good Bastard had the nerve to say if you Voted for Trump ...</td>\n",
       "      <td>Good Morning America 🙏 this corrupt no good Bastard had the nerve to say if you Voted for Trump ...</td>\n",
       "      <td>good morn america corrupt good bastard nerv say vote trump aint black racist corrupt crimin frau...</td>\n",
       "      <td>-0.40</td>\n",
       "    </tr>\n",
       "    <tr>\n",
       "      <th>3</th>\n",
       "      <td>It takes more than 70 people to run Joe Biden's social media accounts. What a waste of taxpayer ...</td>\n",
       "      <td>It takes more than 70 people to run Joe Biden's social media accounts. What a waste of taxpayer ...</td>\n",
       "      <td>take 70 peopl run joe biden social media account wast taxpay fund presid trump manag twitter great</td>\n",
       "      <td>0.62</td>\n",
       "    </tr>\n",
       "    <tr>\n",
       "      <th>4</th>\n",
       "      <td>Tucker: Biden has just pushed the EU to stop buying Russian oil. It’s payback for getting Trump ...</td>\n",
       "      <td>Tucker: Biden has just pushed the EU to stop buying Russian oil. It’s payback for getting Trump ...</td>\n",
       "      <td>tucker biden push eu stop buy russian oil payback get trump elect httpstcokktn1zkbwg</td>\n",
       "      <td>-0.30</td>\n",
       "    </tr>\n",
       "    <tr>\n",
       "      <th>5</th>\n",
       "      <td>Donald Trump Jr. Claims His Anti-Joe Biden Gear Is Made In America So Jimmy Kimmel Bought Some A...</td>\n",
       "      <td>Donald Trump Jr. Claims His Anti-Joe Biden Gear Is Made In America So Jimmy Kimmel Bought Some A...</td>\n",
       "      <td>donald trump jr claim antijo biden gear made america jimmi kimmel bought learn aw truth digg htt...</td>\n",
       "      <td>0.32</td>\n",
       "    </tr>\n",
       "    <tr>\n",
       "      <th>6</th>\n",
       "      <td>Did I just hear Peter Navarro brazenly say the Republicans would use the DOJ — if Trump was re-e...</td>\n",
       "      <td>Did I just hear Peter Navarro brazenly say the Republicans would use the DOJ — if Trump was re-e...</td>\n",
       "      <td>hear peter navarro brazenli say republican would use doj trump reelect 24 arrest joe biden ye be...</td>\n",
       "      <td>0.13</td>\n",
       "    </tr>\n",
       "    <tr>\n",
       "      <th>7</th>\n",
       "      <td>Biden is now arresting former Trump officials for the crime of being former Trump officials.</td>\n",
       "      <td>Biden is now arresting former Trump officials for the crime of being former Trump officials.</td>\n",
       "      <td>biden arrest former trump offici crime former trump offici</td>\n",
       "      <td>-0.71</td>\n",
       "    </tr>\n",
       "    <tr>\n",
       "      <th>8</th>\n",
       "      <td>@GovRonDeSantis OK Trump Jr., Biden cut the deficit by 1/3 of what it was in the quarter BEFORE ...</td>\n",
       "      <td>@GovRonDeSantis OK Trump Jr., Biden cut the deficit by 1/3 of what it was in the quarter BEFORE ...</td>\n",
       "      <td>govrondesanti ok trump jr biden cut deficit 13 quarter pandem first year cut 1t year trump ad al...</td>\n",
       "      <td>-0.71</td>\n",
       "    </tr>\n",
       "  </tbody>\n",
       "</table>\n",
       "</div>"
      ],
      "text/plain": [
       "                                                                                                     0  \\\n",
       "0  @ElieNYC Finally someone spoke the truth. Biden and Garland are protecting Trump. There is NO OT...   \n",
       "1                      Everything they warned about Trump is actually coming true in the Biden regime.   \n",
       "2  Good Morning America 🙏 this corrupt no good Bastard had the nerve to say if you Voted for Trump ...   \n",
       "3  It takes more than 70 people to run Joe Biden's social media accounts. What a waste of taxpayer ...   \n",
       "4  Tucker: Biden has just pushed the EU to stop buying Russian oil. It’s payback for getting Trump ...   \n",
       "5  Donald Trump Jr. Claims His Anti-Joe Biden Gear Is Made In America So Jimmy Kimmel Bought Some A...   \n",
       "6  Did I just hear Peter Navarro brazenly say the Republicans would use the DOJ — if Trump was re-e...   \n",
       "7         Biden is now arresting former Trump officials for the crime of being former Trump officials.   \n",
       "8  @GovRonDeSantis OK Trump Jr., Biden cut the deficit by 1/3 of what it was in the quarter BEFORE ...   \n",
       "\n",
       "                                                                                                  text  \\\n",
       "0  @ElieNYC Finally someone spoke the truth. Biden and Garland are protecting Trump. There is NO OT...   \n",
       "1                      Everything they warned about Trump is actually coming true in the Biden regime.   \n",
       "2  Good Morning America 🙏 this corrupt no good Bastard had the nerve to say if you Voted for Trump ...   \n",
       "3  It takes more than 70 people to run Joe Biden's social media accounts. What a waste of taxpayer ...   \n",
       "4  Tucker: Biden has just pushed the EU to stop buying Russian oil. It’s payback for getting Trump ...   \n",
       "5  Donald Trump Jr. Claims His Anti-Joe Biden Gear Is Made In America So Jimmy Kimmel Bought Some A...   \n",
       "6  Did I just hear Peter Navarro brazenly say the Republicans would use the DOJ — if Trump was re-e...   \n",
       "7         Biden is now arresting former Trump officials for the crime of being former Trump officials.   \n",
       "8  @GovRonDeSantis OK Trump Jr., Biden cut the deficit by 1/3 of what it was in the quarter BEFORE ...   \n",
       "\n",
       "                                                                                          cleaned_text  \\\n",
       "0                                  elienyc final someon spoke truth biden garland protect trump explan   \n",
       "1                                                      everyth warn trump actual come true biden regim   \n",
       "2  good morn america corrupt good bastard nerv say vote trump aint black racist corrupt crimin frau...   \n",
       "3   take 70 peopl run joe biden social media account wast taxpay fund presid trump manag twitter great   \n",
       "4                 tucker biden push eu stop buy russian oil payback get trump elect httpstcokktn1zkbwg   \n",
       "5  donald trump jr claim antijo biden gear made america jimmi kimmel bought learn aw truth digg htt...   \n",
       "6  hear peter navarro brazenli say republican would use doj trump reelect 24 arrest joe biden ye be...   \n",
       "7                                           biden arrest former trump offici crime former trump offici   \n",
       "8  govrondesanti ok trump jr biden cut deficit 13 quarter pandem first year cut 1t year trump ad al...   \n",
       "\n",
       "   sentiment_score1  \n",
       "0              0.60  \n",
       "1              0.34  \n",
       "2             -0.40  \n",
       "3              0.62  \n",
       "4             -0.30  \n",
       "5              0.32  \n",
       "6              0.13  \n",
       "7             -0.71  \n",
       "8             -0.71  "
      ]
     },
     "execution_count": 120,
     "metadata": {},
     "output_type": "execute_result"
    }
   ],
   "source": [
    "from nltk.sentiment.vader import SentimentIntensityAnalyzer\n",
    "sent = SentimentIntensityAnalyzer()\n",
    "nltk.download('vader_lexicon')\n",
    "polarity = [round(sent.polarity_scores(i)['compound'], 2) for i in df['cleaned_text']]\n",
    "df['sentiment_score1'] = polarity\n",
    "df.head(20)"
   ]
  },
  {
   "cell_type": "code",
   "execution_count": 122,
   "metadata": {},
   "outputs": [
    {
     "data": {
      "text/html": [
       "<div>\n",
       "<style scoped>\n",
       "    .dataframe tbody tr th:only-of-type {\n",
       "        vertical-align: middle;\n",
       "    }\n",
       "\n",
       "    .dataframe tbody tr th {\n",
       "        vertical-align: top;\n",
       "    }\n",
       "\n",
       "    .dataframe thead th {\n",
       "        text-align: right;\n",
       "    }\n",
       "</style>\n",
       "<table border=\"1\" class=\"dataframe\">\n",
       "  <thead>\n",
       "    <tr style=\"text-align: right;\">\n",
       "      <th></th>\n",
       "      <th>0</th>\n",
       "      <th>text</th>\n",
       "      <th>cleaned_text</th>\n",
       "      <th>sentiment_score1</th>\n",
       "      <th>Sent_group</th>\n",
       "    </tr>\n",
       "  </thead>\n",
       "  <tbody>\n",
       "    <tr>\n",
       "      <th>0</th>\n",
       "      <td>@ElieNYC Finally someone spoke the truth. Biden and Garland are protecting Trump. There is NO OT...</td>\n",
       "      <td>@ElieNYC Finally someone spoke the truth. Biden and Garland are protecting Trump. There is NO OT...</td>\n",
       "      <td>elienyc final someon spoke truth biden garland protect trump explan</td>\n",
       "      <td>0.60</td>\n",
       "      <td>Pos</td>\n",
       "    </tr>\n",
       "    <tr>\n",
       "      <th>1</th>\n",
       "      <td>Everything they warned about Trump is actually coming true in the Biden regime.</td>\n",
       "      <td>Everything they warned about Trump is actually coming true in the Biden regime.</td>\n",
       "      <td>everyth warn trump actual come true biden regim</td>\n",
       "      <td>0.34</td>\n",
       "      <td>Neu</td>\n",
       "    </tr>\n",
       "    <tr>\n",
       "      <th>2</th>\n",
       "      <td>Good Morning America 🙏 this corrupt no good Bastard had the nerve to say if you Voted for Trump ...</td>\n",
       "      <td>Good Morning America 🙏 this corrupt no good Bastard had the nerve to say if you Voted for Trump ...</td>\n",
       "      <td>good morn america corrupt good bastard nerv say vote trump aint black racist corrupt crimin frau...</td>\n",
       "      <td>-0.40</td>\n",
       "      <td>Neg</td>\n",
       "    </tr>\n",
       "    <tr>\n",
       "      <th>3</th>\n",
       "      <td>It takes more than 70 people to run Joe Biden's social media accounts. What a waste of taxpayer ...</td>\n",
       "      <td>It takes more than 70 people to run Joe Biden's social media accounts. What a waste of taxpayer ...</td>\n",
       "      <td>take 70 peopl run joe biden social media account wast taxpay fund presid trump manag twitter great</td>\n",
       "      <td>0.62</td>\n",
       "      <td>Pos</td>\n",
       "    </tr>\n",
       "    <tr>\n",
       "      <th>4</th>\n",
       "      <td>Tucker: Biden has just pushed the EU to stop buying Russian oil. It’s payback for getting Trump ...</td>\n",
       "      <td>Tucker: Biden has just pushed the EU to stop buying Russian oil. It’s payback for getting Trump ...</td>\n",
       "      <td>tucker biden push eu stop buy russian oil payback get trump elect httpstcokktn1zkbwg</td>\n",
       "      <td>-0.30</td>\n",
       "      <td>Neg</td>\n",
       "    </tr>\n",
       "  </tbody>\n",
       "</table>\n",
       "</div>"
      ],
      "text/plain": [
       "                                                                                                     0  \\\n",
       "0  @ElieNYC Finally someone spoke the truth. Biden and Garland are protecting Trump. There is NO OT...   \n",
       "1                      Everything they warned about Trump is actually coming true in the Biden regime.   \n",
       "2  Good Morning America 🙏 this corrupt no good Bastard had the nerve to say if you Voted for Trump ...   \n",
       "3  It takes more than 70 people to run Joe Biden's social media accounts. What a waste of taxpayer ...   \n",
       "4  Tucker: Biden has just pushed the EU to stop buying Russian oil. It’s payback for getting Trump ...   \n",
       "\n",
       "                                                                                                  text  \\\n",
       "0  @ElieNYC Finally someone spoke the truth. Biden and Garland are protecting Trump. There is NO OT...   \n",
       "1                      Everything they warned about Trump is actually coming true in the Biden regime.   \n",
       "2  Good Morning America 🙏 this corrupt no good Bastard had the nerve to say if you Voted for Trump ...   \n",
       "3  It takes more than 70 people to run Joe Biden's social media accounts. What a waste of taxpayer ...   \n",
       "4  Tucker: Biden has just pushed the EU to stop buying Russian oil. It’s payback for getting Trump ...   \n",
       "\n",
       "                                                                                          cleaned_text  \\\n",
       "0                                  elienyc final someon spoke truth biden garland protect trump explan   \n",
       "1                                                      everyth warn trump actual come true biden regim   \n",
       "2  good morn america corrupt good bastard nerv say vote trump aint black racist corrupt crimin frau...   \n",
       "3   take 70 peopl run joe biden social media account wast taxpay fund presid trump manag twitter great   \n",
       "4                 tucker biden push eu stop buy russian oil payback get trump elect httpstcokktn1zkbwg   \n",
       "\n",
       "   sentiment_score1 Sent_group  \n",
       "0              0.60        Pos  \n",
       "1              0.34        Neu  \n",
       "2             -0.40        Neg  \n",
       "3              0.62        Pos  \n",
       "4             -0.30        Neg  "
      ]
     },
     "execution_count": 122,
     "metadata": {},
     "output_type": "execute_result"
    }
   ],
   "source": [
    "df.loc[df['sentiment_score1']<0, 'Sent_group'] = 'Neg'\n",
    "df.loc[df['sentiment_score1'].between(0,.5), 'Sent_group'] = 'Neu'\n",
    "df.loc[df['sentiment_score1'].between(.5,1), 'Sent_group'] = 'Pos'\n",
    "df.head()"
   ]
  },
  {
   "cell_type": "code",
   "execution_count": 125,
   "metadata": {},
   "outputs": [
    {
     "data": {
      "image/png": "[encoded data removed]",
      "text/plain": [
       "<Figure size 720x720 with 1 Axes>"
      ]
     },
     "metadata": {},
     "output_type": "display_data"
    }
   ],
   "source": [
    "import pandas as pd\n",
    "import matplotlib.pyplot as plt\n",
    "import seaborn as sns\n",
    "import os\n",
    "import numpy as np\n",
    "\n",
    "sns.set(style=\"white\")\n",
    "plt.figure(figsize=(10,10))\n",
    "\n",
    "\n",
    "total = float(len(df))\n",
    "ax = sns.countplot(x=\"Sent_group\", hue=\"Sent_group\", data=df)\n",
    "plt.legend(loc='center right')\n",
    "\n",
    "plt.title('HRM', fontsize=20)\n",
    "ax.set_xticklabels(ax.get_xticklabels(), rotation=30, ha=\"right\");\n",
    "\n",
    "#ax.set_yscale('log')\n",
    "#ax.set_ylim(3)\n",
    "for p in ax.patches:\n",
    "    percentage = '{:.2f}%'.format(100 * p.get_height()/total)\n",
    "    x = p.get_x() + p.get_width()\n",
    "    y = p.get_height()\n",
    "    ax.annotate(percentage, (x, y),ha='center')\n",
    "\n",
    "plt.tight_layout()\n",
    "plt.show()\n"
   ]
  },
  {
   "cell_type": "code",
   "execution_count": 61,
   "metadata": {},
   "outputs": [],
   "source": [
    "import os\n",
    "import tweepy\n",
    "from dotenv import load_dotenv\n",
    "\n",
    "#consumer_key = os.environ[\"API_KEY\"]\n",
    "#consumer_secret = os.environ[\"API_KEY_SECRET\"]\n",
    "#access_token = os.environ[\"ACCESS_TOKEN\"]\n",
    "#access_token_secret = os.environ[\"ACCESS_TOKEN_SECRET\"]\n",
    "\n",
    "auth = tweepy.OAuth1UserHandler(\n",
    "  consumer_key, \n",
    "  consumer_secret, \n",
    "  access_token, \n",
    "  access_token_secret\n",
    ")\n",
    "\n",
    "api = tweepy.API(auth)\n",
    "\n",
    "\n",
    "extracted_tweets = []\n",
    "\n",
    "for status in tweepy.Cursor(api.search_tweets, \n",
    "                            \"Ukraine\", \n",
    "                            lang=\"en\",\n",
    "                            count=100).items(250):\n",
    "    extracted_tweets.append(status)"
   ]
  },
  {
   "cell_type": "code",
   "execution_count": null,
   "metadata": {},
   "outputs": [],
   "source": []
  },
  {
   "cell_type": "code",
   "execution_count": 100,
   "metadata": {},
   "outputs": [
    {
     "data": {
      "text/plain": [
       "Status(_api=<tweepy.api.API object at 0x00000201DE621FA0>, _json={'created_at': 'Sat Jun 04 03:35:02 +0000 2022', 'id': 1532928889718075392, 'id_str': '1532928889718075392', 'text': 'RT @GeoffYoung4KY: Here\\'s a lie from @AP and p.10 of @heraldleader (e-edition): \"Western arms have been critical to Ukraine’s success in st…', 'truncated': False, 'entities': {'hashtags': [], 'symbols': [], 'user_mentions': [{'screen_name': 'GeoffYoung4KY', 'name': 'Geoffrey M. Young', 'id': 949399485234450438, 'id_str': '949399485234450438', 'indices': [3, 17]}, {'screen_name': 'AP', 'name': 'The Associated Press', 'id': 51241574, 'id_str': '51241574', 'indices': [37, 40]}, {'screen_name': 'heraldleader', 'name': 'Lexington Herald-Leader', 'id': 11612722, 'id_str': '11612722', 'indices': [53, 66]}], 'urls': []}, 'metadata': {'iso_language_code': 'en', 'result_type': 'recent'}, 'source': '<a href=\"https://mobile.twitter.com\" rel=\"nofollow\">Twitter Web App</a>', 'in_reply_to_status_id': None, 'in_reply_to_status_id_str': None, 'in_reply_to_user_id': None, 'in_reply_to_user_id_str': None, 'in_reply_to_screen_name': None, 'user': {'id': 1328076575326183424, 'id_str': '1328076575326183424', 'name': '四侯', 'screen_name': 'Wenfangsihou', 'location': '', 'description': '磨润色先生之腹，濡藏锋都尉之头，引书煤而黯黯，入文亩而休休。', 'url': None, 'entities': {'description': {'urls': []}}, 'protected': False, 'followers_count': 1154, 'friends_count': 1750, 'listed_count': 2, 'created_at': 'Sun Nov 15 20:49:25 +0000 2020', 'favourites_count': 4774, 'utc_offset': None, 'time_zone': None, 'geo_enabled': False, 'verified': False, 'statuses_count': 5140, 'lang': None, 'contributors_enabled': False, 'is_translator': False, 'is_translation_enabled': False, 'profile_background_color': 'F5F8FA', 'profile_background_image_url': None, 'profile_background_image_url_https': None, 'profile_background_tile': False, 'profile_image_url': 'http://pbs.twimg.com/profile_images/1413403089831301120/v7VdGdkh_normal.jpg', 'profile_image_url_https': 'https://pbs.twimg.com/profile_images/1413403089831301120/v7VdGdkh_normal.jpg', 'profile_banner_url': 'https://pbs.twimg.com/profile_banners/1328076575326183424/1625816532', 'profile_link_color': '1DA1F2', 'profile_sidebar_border_color': 'C0DEED', 'profile_sidebar_fill_color': 'DDEEF6', 'profile_text_color': '333333', 'profile_use_background_image': True, 'has_extended_profile': True, 'default_profile': True, 'default_profile_image': False, 'following': False, 'follow_request_sent': False, 'notifications': False, 'translator_type': 'none', 'withheld_in_countries': []}, 'geo': None, 'coordinates': None, 'place': None, 'contributors': None, 'retweeted_status': {'created_at': 'Fri Jun 03 12:53:07 +0000 2022', 'id': 1532706949153935362, 'id_str': '1532706949153935362', 'text': 'Here\\'s a lie from @AP and p.10 of @heraldleader (e-edition): \"Western arms have been critical to Ukraine’s success… https://t.co/pKmUE7SnDS', 'truncated': True, 'entities': {'hashtags': [], 'symbols': [], 'user_mentions': [{'screen_name': 'AP', 'name': 'The Associated Press', 'id': 51241574, 'id_str': '51241574', 'indices': [18, 21]}, {'screen_name': 'heraldleader', 'name': 'Lexington Herald-Leader', 'id': 11612722, 'id_str': '11612722', 'indices': [34, 47]}], 'urls': [{'url': 'https://t.co/pKmUE7SnDS', 'expanded_url': 'https://twitter.com/i/web/status/1532706949153935362', 'display_url': 'twitter.com/i/web/status/1…', 'indices': [116, 139]}]}, 'metadata': {'iso_language_code': 'en', 'result_type': 'recent'}, 'source': '<a href=\"https://mobile.twitter.com\" rel=\"nofollow\">Twitter Web App</a>', 'in_reply_to_status_id': None, 'in_reply_to_status_id_str': None, 'in_reply_to_user_id': None, 'in_reply_to_user_id_str': None, 'in_reply_to_screen_name': None, 'user': {'id': 949399485234450438, 'id_str': '949399485234450438', 'name': 'Geoffrey M. Young', 'screen_name': 'GeoffYoung4KY', 'location': 'Lexington, KY', 'description': \"I'm a progressive, Peace Democrat running for the US House against incumbent Andy Barr (R-KY6, Nazi-Supporting, Ignorant, Savage Neocon) in 2022. https://t.co/uGMDGOXTtI\", 'url': 'https://t.co/7WtOeB3GOW', 'entities': {'url': {'urls': [{'url': 'https://t.co/7WtOeB3GOW', 'expanded_url': 'http://www.young4ky.com', 'display_url': 'young4ky.com', 'indices': [0, 23]}]}, 'description': {'urls': [{'url': 'https://t.co/uGMDGOXTtI', 'expanded_url': 'http://Young4ky.com', 'display_url': 'Young4ky.com', 'indices': [146, 169]}]}}, 'protected': False, 'followers_count': 6140, 'friends_count': 1557, 'listed_count': 22, 'created_at': 'Fri Jan 05 21:57:31 +0000 2018', 'favourites_count': 3656, 'utc_offset': None, 'time_zone': None, 'geo_enabled': False, 'verified': True, 'statuses_count': 2505, 'lang': None, 'contributors_enabled': False, 'is_translator': False, 'is_translation_enabled': False, 'profile_background_color': '000000', 'profile_background_image_url': 'http://abs.twimg.com/images/themes/theme1/bg.png', 'profile_background_image_url_https': 'https://abs.twimg.com/images/themes/theme1/bg.png', 'profile_background_tile': False, 'profile_image_url': 'http://pbs.twimg.com/profile_images/949406165083066368/ly9orC12_normal.jpg', 'profile_image_url_https': 'https://pbs.twimg.com/profile_images/949406165083066368/ly9orC12_normal.jpg', 'profile_banner_url': 'https://pbs.twimg.com/profile_banners/949399485234450438/1515190955', 'profile_link_color': '1B95E0', 'profile_sidebar_border_color': '000000', 'profile_sidebar_fill_color': '000000', 'profile_text_color': '000000', 'profile_use_background_image': False, 'has_extended_profile': True, 'default_profile': False, 'default_profile_image': False, 'following': False, 'follow_request_sent': False, 'notifications': False, 'translator_type': 'none', 'withheld_in_countries': []}, 'geo': None, 'coordinates': None, 'place': None, 'contributors': None, 'is_quote_status': False, 'retweet_count': 3, 'favorite_count': 13, 'favorited': False, 'retweeted': False, 'lang': 'en'}, 'is_quote_status': False, 'retweet_count': 3, 'favorite_count': 0, 'favorited': False, 'retweeted': False, 'lang': 'en'}, created_at=datetime.datetime(2022, 6, 4, 3, 35, 2, tzinfo=datetime.timezone.utc), id=1532928889718075392, id_str='1532928889718075392', text='RT @GeoffYoung4KY: Here\\'s a lie from @AP and p.10 of @heraldleader (e-edition): \"Western arms have been critical to Ukraine’s success in st…', truncated=False, entities={'hashtags': [], 'symbols': [], 'user_mentions': [{'screen_name': 'GeoffYoung4KY', 'name': 'Geoffrey M. Young', 'id': 949399485234450438, 'id_str': '949399485234450438', 'indices': [3, 17]}, {'screen_name': 'AP', 'name': 'The Associated Press', 'id': 51241574, 'id_str': '51241574', 'indices': [37, 40]}, {'screen_name': 'heraldleader', 'name': 'Lexington Herald-Leader', 'id': 11612722, 'id_str': '11612722', 'indices': [53, 66]}], 'urls': []}, metadata={'iso_language_code': 'en', 'result_type': 'recent'}, source='Twitter Web App', source_url='https://mobile.twitter.com', in_reply_to_status_id=None, in_reply_to_status_id_str=None, in_reply_to_user_id=None, in_reply_to_user_id_str=None, in_reply_to_screen_name=None, author=User(_api=<tweepy.api.API object at 0x00000201DE621FA0>, _json={'id': 1328076575326183424, 'id_str': '1328076575326183424', 'name': '四侯', 'screen_name': 'Wenfangsihou', 'location': '', 'description': '磨润色先生之腹，濡藏锋都尉之头，引书煤而黯黯，入文亩而休休。', 'url': None, 'entities': {'description': {'urls': []}}, 'protected': False, 'followers_count': 1154, 'friends_count': 1750, 'listed_count': 2, 'created_at': 'Sun Nov 15 20:49:25 +0000 2020', 'favourites_count': 4774, 'utc_offset': None, 'time_zone': None, 'geo_enabled': False, 'verified': False, 'statuses_count': 5140, 'lang': None, 'contributors_enabled': False, 'is_translator': False, 'is_translation_enabled': False, 'profile_background_color': 'F5F8FA', 'profile_background_image_url': None, 'profile_background_image_url_https': None, 'profile_background_tile': False, 'profile_image_url': 'http://pbs.twimg.com/profile_images/1413403089831301120/v7VdGdkh_normal.jpg', 'profile_image_url_https': 'https://pbs.twimg.com/profile_images/1413403089831301120/v7VdGdkh_normal.jpg', 'profile_banner_url': 'https://pbs.twimg.com/profile_banners/1328076575326183424/1625816532', 'profile_link_color': '1DA1F2', 'profile_sidebar_border_color': 'C0DEED', 'profile_sidebar_fill_color': 'DDEEF6', 'profile_text_color': '333333', 'profile_use_background_image': True, 'has_extended_profile': True, 'default_profile': True, 'default_profile_image': False, 'following': False, 'follow_request_sent': False, 'notifications': False, 'translator_type': 'none', 'withheld_in_countries': []}, id=1328076575326183424, id_str='1328076575326183424', name='四侯', screen_name='Wenfangsihou', location='', description='磨润色先生之腹，濡藏锋都尉之头，引书煤而黯黯，入文亩而休休。', url=None, entities={'description': {'urls': []}}, protected=False, followers_count=1154, friends_count=1750, listed_count=2, created_at=datetime.datetime(2020, 11, 15, 20, 49, 25, tzinfo=datetime.timezone.utc), favourites_count=4774, utc_offset=None, time_zone=None, geo_enabled=False, verified=False, statuses_count=5140, lang=None, contributors_enabled=False, is_translator=False, is_translation_enabled=False, profile_background_color='F5F8FA', profile_background_image_url=None, profile_background_image_url_https=None, profile_background_tile=False, profile_image_url='http://pbs.twimg.com/profile_images/1413403089831301120/v7VdGdkh_normal.jpg', profile_image_url_https='https://pbs.twimg.com/profile_images/1413403089831301120/v7VdGdkh_normal.jpg', profile_banner_url='https://pbs.twimg.com/profile_banners/1328076575326183424/1625816532', profile_link_color='1DA1F2', profile_sidebar_border_color='C0DEED', profile_sidebar_fill_color='DDEEF6', profile_text_color='333333', profile_use_background_image=True, has_extended_profile=True, default_profile=True, default_profile_image=False, following=False, follow_request_sent=False, notifications=False, translator_type='none', withheld_in_countries=[]), user=User(_api=<tweepy.api.API object at 0x00000201DE621FA0>, _json={'id': 1328076575326183424, 'id_str': '1328076575326183424', 'name': '四侯', 'screen_name': 'Wenfangsihou', 'location': '', 'description': '磨润色先生之腹，濡藏锋都尉之头，引书煤而黯黯，入文亩而休休。', 'url': None, 'entities': {'description': {'urls': []}}, 'protected': False, 'followers_count': 1154, 'friends_count': 1750, 'listed_count': 2, 'created_at': 'Sun Nov 15 20:49:25 +0000 2020', 'favourites_count': 4774, 'utc_offset': None, 'time_zone': None, 'geo_enabled': False, 'verified': False, 'statuses_count': 5140, 'lang': None, 'contributors_enabled': False, 'is_translator': False, 'is_translation_enabled': False, 'profile_background_color': 'F5F8FA', 'profile_background_image_url': None, 'profile_background_image_url_https': None, 'profile_background_tile': False, 'profile_image_url': 'http://pbs.twimg.com/profile_images/1413403089831301120/v7VdGdkh_normal.jpg', 'profile_image_url_https': 'https://pbs.twimg.com/profile_images/1413403089831301120/v7VdGdkh_normal.jpg', 'profile_banner_url': 'https://pbs.twimg.com/profile_banners/1328076575326183424/1625816532', 'profile_link_color': '1DA1F2', 'profile_sidebar_border_color': 'C0DEED', 'profile_sidebar_fill_color': 'DDEEF6', 'profile_text_color': '333333', 'profile_use_background_image': True, 'has_extended_profile': True, 'default_profile': True, 'default_profile_image': False, 'following': False, 'follow_request_sent': False, 'notifications': False, 'translator_type': 'none', 'withheld_in_countries': []}, id=1328076575326183424, id_str='1328076575326183424', name='四侯', screen_name='Wenfangsihou', location='', description='磨润色先生之腹，濡藏锋都尉之头，引书煤而黯黯，入文亩而休休。', url=None, entities={'description': {'urls': []}}, protected=False, followers_count=1154, friends_count=1750, listed_count=2, created_at=datetime.datetime(2020, 11, 15, 20, 49, 25, tzinfo=datetime.timezone.utc), favourites_count=4774, utc_offset=None, time_zone=None, geo_enabled=False, verified=False, statuses_count=5140, lang=None, contributors_enabled=False, is_translator=False, is_translation_enabled=False, profile_background_color='F5F8FA', profile_background_image_url=None, profile_background_image_url_https=None, profile_background_tile=False, profile_image_url='http://pbs.twimg.com/profile_images/1413403089831301120/v7VdGdkh_normal.jpg', profile_image_url_https='https://pbs.twimg.com/profile_images/1413403089831301120/v7VdGdkh_normal.jpg', profile_banner_url='https://pbs.twimg.com/profile_banners/1328076575326183424/1625816532', profile_link_color='1DA1F2', profile_sidebar_border_color='C0DEED', profile_sidebar_fill_color='DDEEF6', profile_text_color='333333', profile_use_background_image=True, has_extended_profile=True, default_profile=True, default_profile_image=False, following=False, follow_request_sent=False, notifications=False, translator_type='none', withheld_in_countries=[]), geo=None, coordinates=None, place=None, contributors=None, retweeted_status=Status(_api=<tweepy.api.API object at 0x00000201DE621FA0>, _json={'created_at': 'Fri Jun 03 12:53:07 +0000 2022', 'id': 1532706949153935362, 'id_str': '1532706949153935362', 'text': 'Here\\'s a lie from @AP and p.10 of @heraldleader (e-edition): \"Western arms have been critical to Ukraine’s success… https://t.co/pKmUE7SnDS', 'truncated': True, 'entities': {'hashtags': [], 'symbols': [], 'user_mentions': [{'screen_name': 'AP', 'name': 'The Associated Press', 'id': 51241574, 'id_str': '51241574', 'indices': [18, 21]}, {'screen_name': 'heraldleader', 'name': 'Lexington Herald-Leader', 'id': 11612722, 'id_str': '11612722', 'indices': [34, 47]}], 'urls': [{'url': 'https://t.co/pKmUE7SnDS', 'expanded_url': 'https://twitter.com/i/web/status/1532706949153935362', 'display_url': 'twitter.com/i/web/status/1…', 'indices': [116, 139]}]}, 'metadata': {'iso_language_code': 'en', 'result_type': 'recent'}, 'source': '<a href=\"https://mobile.twitter.com\" rel=\"nofollow\">Twitter Web App</a>', 'in_reply_to_status_id': None, 'in_reply_to_status_id_str': None, 'in_reply_to_user_id': None, 'in_reply_to_user_id_str': None, 'in_reply_to_screen_name': None, 'user': {'id': 949399485234450438, 'id_str': '949399485234450438', 'name': 'Geoffrey M. Young', 'screen_name': 'GeoffYoung4KY', 'location': 'Lexington, KY', 'description': \"I'm a progressive, Peace Democrat running for the US House against incumbent Andy Barr (R-KY6, Nazi-Supporting, Ignorant, Savage Neocon) in 2022. https://t.co/uGMDGOXTtI\", 'url': 'https://t.co/7WtOeB3GOW', 'entities': {'url': {'urls': [{'url': 'https://t.co/7WtOeB3GOW', 'expanded_url': 'http://www.young4ky.com', 'display_url': 'young4ky.com', 'indices': [0, 23]}]}, 'description': {'urls': [{'url': 'https://t.co/uGMDGOXTtI', 'expanded_url': 'http://Young4ky.com', 'display_url': 'Young4ky.com', 'indices': [146, 169]}]}}, 'protected': False, 'followers_count': 6140, 'friends_count': 1557, 'listed_count': 22, 'created_at': 'Fri Jan 05 21:57:31 +0000 2018', 'favourites_count': 3656, 'utc_offset': None, 'time_zone': None, 'geo_enabled': False, 'verified': True, 'statuses_count': 2505, 'lang': None, 'contributors_enabled': False, 'is_translator': False, 'is_translation_enabled': False, 'profile_background_color': '000000', 'profile_background_image_url': 'http://abs.twimg.com/images/themes/theme1/bg.png', 'profile_background_image_url_https': 'https://abs.twimg.com/images/themes/theme1/bg.png', 'profile_background_tile': False, 'profile_image_url': 'http://pbs.twimg.com/profile_images/949406165083066368/ly9orC12_normal.jpg', 'profile_image_url_https': 'https://pbs.twimg.com/profile_images/949406165083066368/ly9orC12_normal.jpg', 'profile_banner_url': 'https://pbs.twimg.com/profile_banners/949399485234450438/1515190955', 'profile_link_color': '1B95E0', 'profile_sidebar_border_color': '000000', 'profile_sidebar_fill_color': '000000', 'profile_text_color': '000000', 'profile_use_background_image': False, 'has_extended_profile': True, 'default_profile': False, 'default_profile_image': False, 'following': False, 'follow_request_sent': False, 'notifications': False, 'translator_type': 'none', 'withheld_in_countries': []}, 'geo': None, 'coordinates': None, 'place': None, 'contributors': None, 'is_quote_status': False, 'retweet_count': 3, 'favorite_count': 13, 'favorited': False, 'retweeted': False, 'lang': 'en'}, created_at=datetime.datetime(2022, 6, 3, 12, 53, 7, tzinfo=datetime.timezone.utc), id=1532706949153935362, id_str='1532706949153935362', text='Here\\'s a lie from @AP and p.10 of @heraldleader (e-edition): \"Western arms have been critical to Ukraine’s success… https://t.co/pKmUE7SnDS', truncated=True, entities={'hashtags': [], 'symbols': [], 'user_mentions': [{'screen_name': 'AP', 'name': 'The Associated Press', 'id': 51241574, 'id_str': '51241574', 'indices': [18, 21]}, {'screen_name': 'heraldleader', 'name': 'Lexington Herald-Leader', 'id': 11612722, 'id_str': '11612722', 'indices': [34, 47]}], 'urls': [{'url': 'https://t.co/pKmUE7SnDS', 'expanded_url': 'https://twitter.com/i/web/status/1532706949153935362', 'display_url': 'twitter.com/i/web/status/1…', 'indices': [116, 139]}]}, metadata={'iso_language_code': 'en', 'result_type': 'recent'}, source='Twitter Web App', source_url='https://mobile.twitter.com', in_reply_to_status_id=None, in_reply_to_status_id_str=None, in_reply_to_user_id=None, in_reply_to_user_id_str=None, in_reply_to_screen_name=None, author=User(_api=<tweepy.api.API object at 0x00000201DE621FA0>, _json={'id': 949399485234450438, 'id_str': '949399485234450438', 'name': 'Geoffrey M. Young', 'screen_name': 'GeoffYoung4KY', 'location': 'Lexington, KY', 'description': \"I'm a progressive, Peace Democrat running for the US House against incumbent Andy Barr (R-KY6, Nazi-Supporting, Ignorant, Savage Neocon) in 2022. https://t.co/uGMDGOXTtI\", 'url': 'https://t.co/7WtOeB3GOW', 'entities': {'url': {'urls': [{'url': 'https://t.co/7WtOeB3GOW', 'expanded_url': 'http://www.young4ky.com', 'display_url': 'young4ky.com', 'indices': [0, 23]}]}, 'description': {'urls': [{'url': 'https://t.co/uGMDGOXTtI', 'expanded_url': 'http://Young4ky.com', 'display_url': 'Young4ky.com', 'indices': [146, 169]}]}}, 'protected': False, 'followers_count': 6140, 'friends_count': 1557, 'listed_count': 22, 'created_at': 'Fri Jan 05 21:57:31 +0000 2018', 'favourites_count': 3656, 'utc_offset': None, 'time_zone': None, 'geo_enabled': False, 'verified': True, 'statuses_count': 2505, 'lang': None, 'contributors_enabled': False, 'is_translator': False, 'is_translation_enabled': False, 'profile_background_color': '000000', 'profile_background_image_url': 'http://abs.twimg.com/images/themes/theme1/bg.png', 'profile_background_image_url_https': 'https://abs.twimg.com/images/themes/theme1/bg.png', 'profile_background_tile': False, 'profile_image_url': 'http://pbs.twimg.com/profile_images/949406165083066368/ly9orC12_normal.jpg', 'profile_image_url_https': 'https://pbs.twimg.com/profile_images/949406165083066368/ly9orC12_normal.jpg', 'profile_banner_url': 'https://pbs.twimg.com/profile_banners/949399485234450438/1515190955', 'profile_link_color': '1B95E0', 'profile_sidebar_border_color': '000000', 'profile_sidebar_fill_color': '000000', 'profile_text_color': '000000', 'profile_use_background_image': False, 'has_extended_profile': True, 'default_profile': False, 'default_profile_image': False, 'following': False, 'follow_request_sent': False, 'notifications': False, 'translator_type': 'none', 'withheld_in_countries': []}, id=949399485234450438, id_str='949399485234450438', name='Geoffrey M. Young', screen_name='GeoffYoung4KY', location='Lexington, KY', description=\"I'm a progressive, Peace Democrat running for the US House against incumbent Andy Barr (R-KY6, Nazi-Supporting, Ignorant, Savage Neocon) in 2022. https://t.co/uGMDGOXTtI\", url='https://t.co/7WtOeB3GOW', entities={'url': {'urls': [{'url': 'https://t.co/7WtOeB3GOW', 'expanded_url': 'http://www.young4ky.com', 'display_url': 'young4ky.com', 'indices': [0, 23]}]}, 'description': {'urls': [{'url': 'https://t.co/uGMDGOXTtI', 'expanded_url': 'http://Young4ky.com', 'display_url': 'Young4ky.com', 'indices': [146, 169]}]}}, protected=False, followers_count=6140, friends_count=1557, listed_count=22, created_at=datetime.datetime(2018, 1, 5, 21, 57, 31, tzinfo=datetime.timezone.utc), favourites_count=3656, utc_offset=None, time_zone=None, geo_enabled=False, verified=True, statuses_count=2505, lang=None, contributors_enabled=False, is_translator=False, is_translation_enabled=False, profile_background_color='000000', profile_background_image_url='http://abs.twimg.com/images/themes/theme1/bg.png', profile_background_image_url_https='https://abs.twimg.com/images/themes/theme1/bg.png', profile_background_tile=False, profile_image_url='http://pbs.twimg.com/profile_images/949406165083066368/ly9orC12_normal.jpg', profile_image_url_https='https://pbs.twimg.com/profile_images/949406165083066368/ly9orC12_normal.jpg', profile_banner_url='https://pbs.twimg.com/profile_banners/949399485234450438/1515190955', profile_link_color='1B95E0', profile_sidebar_border_color='000000', profile_sidebar_fill_color='000000', profile_text_color='000000', profile_use_background_image=False, has_extended_profile=True, default_profile=False, default_profile_image=False, following=False, follow_request_sent=False, notifications=False, translator_type='none', withheld_in_countries=[]), user=User(_api=<tweepy.api.API object at 0x00000201DE621FA0>, _json={'id': 949399485234450438, 'id_str': '949399485234450438', 'name': 'Geoffrey M. Young', 'screen_name': 'GeoffYoung4KY', 'location': 'Lexington, KY', 'description': \"I'm a progressive, Peace Democrat running for the US House against incumbent Andy Barr (R-KY6, Nazi-Supporting, Ignorant, Savage Neocon) in 2022. https://t.co/uGMDGOXTtI\", 'url': 'https://t.co/7WtOeB3GOW', 'entities': {'url': {'urls': [{'url': 'https://t.co/7WtOeB3GOW', 'expanded_url': 'http://www.young4ky.com', 'display_url': 'young4ky.com', 'indices': [0, 23]}]}, 'description': {'urls': [{'url': 'https://t.co/uGMDGOXTtI', 'expanded_url': 'http://Young4ky.com', 'display_url': 'Young4ky.com', 'indices': [146, 169]}]}}, 'protected': False, 'followers_count': 6140, 'friends_count': 1557, 'listed_count': 22, 'created_at': 'Fri Jan 05 21:57:31 +0000 2018', 'favourites_count': 3656, 'utc_offset': None, 'time_zone': None, 'geo_enabled': False, 'verified': True, 'statuses_count': 2505, 'lang': None, 'contributors_enabled': False, 'is_translator': False, 'is_translation_enabled': False, 'profile_background_color': '000000', 'profile_background_image_url': 'http://abs.twimg.com/images/themes/theme1/bg.png', 'profile_background_image_url_https': 'https://abs.twimg.com/images/themes/theme1/bg.png', 'profile_background_tile': False, 'profile_image_url': 'http://pbs.twimg.com/profile_images/949406165083066368/ly9orC12_normal.jpg', 'profile_image_url_https': 'https://pbs.twimg.com/profile_images/949406165083066368/ly9orC12_normal.jpg', 'profile_banner_url': 'https://pbs.twimg.com/profile_banners/949399485234450438/1515190955', 'profile_link_color': '1B95E0', 'profile_sidebar_border_color': '000000', 'profile_sidebar_fill_color': '000000', 'profile_text_color': '000000', 'profile_use_background_image': False, 'has_extended_profile': True, 'default_profile': False, 'default_profile_image': False, 'following': False, 'follow_request_sent': False, 'notifications': False, 'translator_type': 'none', 'withheld_in_countries': []}, id=949399485234450438, id_str='949399485234450438', name='Geoffrey M. Young', screen_name='GeoffYoung4KY', location='Lexington, KY', description=\"I'm a progressive, Peace Democrat running for the US House against incumbent Andy Barr (R-KY6, Nazi-Supporting, Ignorant, Savage Neocon) in 2022. https://t.co/uGMDGOXTtI\", url='https://t.co/7WtOeB3GOW', entities={'url': {'urls': [{'url': 'https://t.co/7WtOeB3GOW', 'expanded_url': 'http://www.young4ky.com', 'display_url': 'young4ky.com', 'indices': [0, 23]}]}, 'description': {'urls': [{'url': 'https://t.co/uGMDGOXTtI', 'expanded_url': 'http://Young4ky.com', 'display_url': 'Young4ky.com', 'indices': [146, 169]}]}}, protected=False, followers_count=6140, friends_count=1557, listed_count=22, created_at=datetime.datetime(2018, 1, 5, 21, 57, 31, tzinfo=datetime.timezone.utc), favourites_count=3656, utc_offset=None, time_zone=None, geo_enabled=False, verified=True, statuses_count=2505, lang=None, contributors_enabled=False, is_translator=False, is_translation_enabled=False, profile_background_color='000000', profile_background_image_url='http://abs.twimg.com/images/themes/theme1/bg.png', profile_background_image_url_https='https://abs.twimg.com/images/themes/theme1/bg.png', profile_background_tile=False, profile_image_url='http://pbs.twimg.com/profile_images/949406165083066368/ly9orC12_normal.jpg', profile_image_url_https='https://pbs.twimg.com/profile_images/949406165083066368/ly9orC12_normal.jpg', profile_banner_url='https://pbs.twimg.com/profile_banners/949399485234450438/1515190955', profile_link_color='1B95E0', profile_sidebar_border_color='000000', profile_sidebar_fill_color='000000', profile_text_color='000000', profile_use_background_image=False, has_extended_profile=True, default_profile=False, default_profile_image=False, following=False, follow_request_sent=False, notifications=False, translator_type='none', withheld_in_countries=[]), geo=None, coordinates=None, place=None, contributors=None, is_quote_status=False, retweet_count=3, favorite_count=13, favorited=False, retweeted=False, lang='en'), is_quote_status=False, retweet_count=3, favorite_count=0, favorited=False, retweeted=False, lang='en')"
      ]
     },
     "execution_count": 100,
     "metadata": {},
     "output_type": "execute_result"
    }
   ],
   "source": [
    "extracted_tweets[2]"
   ]
  },
  {
   "cell_type": "code",
   "execution_count": null,
   "metadata": {},
   "outputs": [],
   "source": [
    "\n"
   ]
  },
  {
   "cell_type": "code",
   "execution_count": null,
   "metadata": {},
   "outputs": [],
   "source": []
  },
  {
   "cell_type": "code",
   "execution_count": null,
   "metadata": {},
   "outputs": [],
   "source": []
  }
 ],
 "metadata": {
  "kernelspec": {
   "display_name": "Python 3",
   "language": "python",
   "name": "python3"
  },
  "language_info": {
   "codemirror_mode": {
    "name": "ipython",
    "version": 3
   },
   "file_extension": ".py",
   "mimetype": "text/x-python",
   "name": "python",
   "nbconvert_exporter": "python",
   "pygments_lexer": "ipython3",
   "version": "3.8.5"
  }
 },
 "nbformat": 4,
 "nbformat_minor": 4
}
